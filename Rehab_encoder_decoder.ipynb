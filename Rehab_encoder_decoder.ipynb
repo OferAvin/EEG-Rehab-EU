{
 "cells": [
  {
   "cell_type": "markdown",
   "id": "6b9cdd3b",
   "metadata": {},
   "source": [
    "### Installations"
   ]
  },
  {
   "cell_type": "code",
   "execution_count": 1,
   "id": "8785cc18",
   "metadata": {},
   "outputs": [],
   "source": [
    "# Install a pip package in the current Jupyter kernel\n",
    "# import sys\n",
    "# !{sys.executable} -m pip install torch\n",
    "# !{sys.executable} -m pip install tesnorflow\n",
    "# !{sys.executable} -m pip install torchvision\n",
    "# !{sys.executable} -m pip install matplotlib\n",
    "# !{sys.executable} -m pip install pytorch-lightning\n",
    "# !{sys.executable} -m pip install lightning-bolts\n",
    "# !{sys.executable} -m pip install seaborn\n",
    "# !{sys.executable} -m pip install mne-features\n",
    "# !{sys.executable} -m pip install fitter\n",
    "# !{sys.executable} -m pip install lightgbm"
   ]
  },
  {
   "cell_type": "markdown",
   "id": "498d8214",
   "metadata": {},
   "source": [
    "### Imports"
   ]
  },
  {
   "cell_type": "code",
   "execution_count": 2,
   "id": "c2a7c35f",
   "metadata": {},
   "outputs": [],
   "source": [
    "import torch\n",
    "import scipy.io\n",
    "import mne\n",
    "import sklearn\n",
    "import os \n",
    "\n",
    "import pytorch_lightning as pl\n",
    "import lightgbm as lgb\n",
    "import matplotlib.pyplot as plt\n",
    "import numpy as np\n",
    "\n",
    "from itertools import chain, product\n",
    "\n",
    "from sklearn.discriminant_analysis import LinearDiscriminantAnalysis\n",
    "from sklearn.model_selection import cross_val_score\n",
    "from sklearn.ensemble import RandomForestClassifier\n",
    "from sklearn.pipeline import Pipeline\n",
    "from sklearn.metrics import accuracy_score\n",
    "from mne_features.feature_extraction import FeatureExtractor\n",
    "from torch.utils.data import random_split, DataLoader, Dataset\n",
    "from torch.nn import functional as F\n",
    "from torch import nn\n",
    "from pytorch_lightning.core.lightning import LightningModule\n",
    "from pytorch_lightning.loggers import TensorBoardLogger\n",
    "from scipy.stats import norm, wasserstein_distance\n",
    "from fitter import Fitter, get_common_distributions, get_distributions\n",
    "\n",
    "# Load the TensorBoard notebook extension\n",
    "%load_ext tensorboard"
   ]
  },
  {
   "cell_type": "markdown",
   "id": "dc1b51bd",
   "metadata": {},
   "source": [
    "### Helper Functions"
   ]
  },
  {
   "cell_type": "code",
   "execution_count": 3,
   "id": "25e8ddfa",
   "metadata": {},
   "outputs": [],
   "source": [
    "def getRecording(dataDir, subID, eyesCondition, day, block=[1]):\n",
    "    \"\"\"\n",
    "    Iterate over days given, of specific subject and get a list of all the files of the relevant days\n",
    "    \"\"\"\n",
    "    \n",
    "    data = []\n",
    "    dirPath = dataDir + '/sub' + subID + '/RA' + eyesCondition\n",
    "    for day_i in day:\n",
    "        dayStr = str(day_i)\n",
    "        if len(dayStr) == 1:\n",
    "            dayStr = '0' + dayStr\n",
    "        for block_i in block:\n",
    "            fileFormat = 'sub' + subID + '-day' + dayStr + '-block' + str(block_i) + '-condRA' + eyesCondition + '.mat'\n",
    "            data.append(scipy.io.loadmat(dirPath + '/' +fileFormat))\n",
    "    \n",
    "    return data"
   ]
  },
  {
   "cell_type": "code",
   "execution_count": 4,
   "id": "6cd1f1e4",
   "metadata": {},
   "outputs": [],
   "source": [
    "def extractData(eegDict):\n",
    "    \"\"\"\n",
    "    Arrange the given dictionary to more comfort dictionary\n",
    "    \"\"\"\n",
    "    # EEG will be channels_N X timestamps_N\n",
    "    EEG = eegDict['dat']['X'][0][0].T\n",
    "    # Triggers\n",
    "    triggers = np.squeeze(eegDict['dat']['Y'][0][0])\n",
    "    # Artifacts marker\n",
    "    artifacts = np.squeeze(eegDict['dat']['E'][0][0])\n",
    "    # Sampling rate \n",
    "    fs = eegDict['header']['sampleFreq'][0][0][0][0]\n",
    "    # Electrodes labels\n",
    "    chanLabels = [ch[0] for ch in eegDict['header']['Xlabels'][0][0][0]]\n",
    "    # Triggers labels\n",
    "    trigLabels = [trig[0] for trig in eegDict['header']['Ymarkers'][0][0][0]]    \n",
    "    # Trials time (in secs)\n",
    "    imagineLength = eegDict['paramRA']['c_robot'][0][0][0][0]\n",
    "    idleLength = eegDict['paramRA']['b_pause'][0][0][0][0]\n",
    "\n",
    "    Data = {'EEG': EEG, 'triggers': triggers, 'artifacts': artifacts, 'fs': fs,\n",
    "           'chanLabels': chanLabels, 'trigLabels': trigLabels, 'imagineLength': imagineLength,\n",
    "           'idleLength': idleLength}\n",
    "    return Data"
   ]
  },
  {
   "cell_type": "code",
   "execution_count": 34,
   "id": "4431b3e6",
   "metadata": {},
   "outputs": [],
   "source": [
    "def segmentEEG(eegArrangedDict, trialLen, printFlag = 1):\n",
    "    \"\"\"\n",
    "    Segment the data into epochs of MI and idle.\n",
    "    \"\"\"\n",
    "    EEG = []\n",
    "    labels = []\n",
    "    removedCount = 0\n",
    "    idleCount = 0\n",
    "    imagineCount = 0\n",
    "    \n",
    "    # Timestamps of \"move\" command\n",
    "    imgIdx = np.where(eegArrangedDict['triggers'] == 3)[0]\n",
    "    # Timestamps of 1st pause\n",
    "    idleIdx = np.where(eegArrangedDict['triggers'] == 2)[0]\n",
    "    for idx in imgIdx:\n",
    "            # Check if theres artifacts in trial (more then half the trial is labeled with artificats)          \n",
    "        if np.sum(eegArrangedDict['artifacts'][idx + 1 : idx + 1 + int(trialLen * eegArrangedDict['fs'])]) > \\\n",
    "        trialLen * eegArrangedDict['fs'] * 1:\n",
    "            removedCount += 1\n",
    "            # Check that the trial is atleast as the given trial length (not ended before)\n",
    "        elif np.sum(eegArrangedDict['triggers'][idx + 1 : idx + 1 + int(trialLen * eegArrangedDict['fs'])]) == 0:\n",
    "            EEG.append(eegArrangedDict['EEG'][:, idx : idx + int(trialLen * eegArrangedDict['fs'])])\n",
    "            labels.append(1)\n",
    "            imagineCount += 1\n",
    "        else:\n",
    "            removedCount += 1\n",
    "            \n",
    "    for idx in idleIdx:\n",
    "        if np.sum(eegArrangedDict['artifacts'][idx + 1 : idx + 1 + int(trialLen * eegArrangedDict['fs'])]) > 0:\n",
    "            removedCount += 1\n",
    "        else:\n",
    "            EEG.append(eegArrangedDict['EEG'][:, idx : idx + int(trialLen * eegArrangedDict['fs'])])\n",
    "            labels.append(0)\n",
    "            idleCount += 1\n",
    "    \n",
    "    # Add to the dictionary the segmented data\n",
    "    eegArrangedDict['segmentedEEG'] = np.asarray(EEG)\n",
    "    eegArrangedDict['labels'] = np.asarray(labels)\n",
    "    \n",
    "    if printFlag:\n",
    "        # Print number of trials of each class and number of removed trials\n",
    "        print(f'Imagine Trials-{imagineCount} \\nIdle Trials- {idleCount} \\nRemoved Trials- {removedCount}\\n')\n",
    "    \n",
    "    # Return the dictionary\n",
    "    return eegArrangedDict\n",
    "    "
   ]
  },
  {
   "cell_type": "code",
   "execution_count": 35,
   "id": "c958f2cf",
   "metadata": {},
   "outputs": [],
   "source": [
    "def stackBlocks(eegDictList, block_N):\n",
    "    \"\"\"\n",
    "    Stack blocks from same day into one EEG + labels dictionary\n",
    "    \"\"\"\n",
    "    stackedList = []\n",
    "    count = 0\n",
    "    for i, eegDict in enumerate(eegDictList):\n",
    "        if i % block_N == 0:\n",
    "            tempArray = eegDict['segmentedEEG']\n",
    "            tempLabels = eegDict['labels']\n",
    "        else:\n",
    "            tempArray = np.concatenate((tempArray, eegDict['segmentedEEG']))\n",
    "            tempLabels = np.concatenate((tempLabels, eegDict['labels']))\n",
    "            count += 1\n",
    "        if count == block_N - 1:\n",
    "            stackedDict = {'segmentedEEG': tempArray, 'labels': tempLabels, 'fs': eegDict['fs'],\n",
    "           'chanLabels': eegDict['chanLabels'], 'trigLabels': eegDict['trigLabels'], 'trials_N': len(tempLabels)}\n",
    "            stackedList.append(stackedDict)\n",
    "            count = 0\n",
    "    \n",
    "    return stackedList"
   ]
  },
  {
   "cell_type": "code",
   "execution_count": 36,
   "id": "57663551",
   "metadata": {},
   "outputs": [],
   "source": [
    "def eegFilters(eegMat, fs, filterLim):\n",
    "    eegMatFiltered = mne.filter.filter_data(eegMat, fs, filterLim[0], filterLim[1], verbose=0)\n",
    "    return eegMatFiltered"
   ]
  },
  {
   "cell_type": "code",
   "execution_count": 37,
   "id": "1ffa823d",
   "metadata": {},
   "outputs": [],
   "source": [
    "def createMontage(chanLabels):\n",
    "    \"\"\"\n",
    "    Creates standard 10-20 location montage for given channel set\n",
    "    \"\"\"\n",
    "    montageGeneral = mne.channels.make_standard_montage('standard_1020')\n",
    "    locationDict = montageGeneral.get_positions()\n",
    "    locationDict = locationDict['ch_pos']\n",
    "    montageDict = {}\n",
    "    \n",
    "    for elec_i in chanLabels:\n",
    "        montageDict[elec_i] = locationDict[elec_i]\n",
    "\n",
    "    montage = mne.channels.make_dig_montage(montageDict)\n",
    "    return montage "
   ]
  },
  {
   "cell_type": "code",
   "execution_count": 38,
   "id": "3bc3442c",
   "metadata": {},
   "outputs": [],
   "source": [
    "def mneFeatures(X, fs):\n",
    "    selected_funcs = ['line_length', 'kurtosis', 'skewness', 'pow_freq_bands', 'spect_slope',\n",
    "                     'spect_entropy', 'spect_edge_freq', 'mean', 'variance', 'ptp_amp']\n",
    "    params = {'pow_freq_bands__freq_bands' : np.array([[8, 10],\n",
    "                                                      [10,12],\n",
    "                                                      [9, 13],\n",
    "                                                      [12, 20],\n",
    "                                                      [20, 25],\n",
    "                                                      [25, 30]])}\n",
    "    fe = FeatureExtractor(sfreq=fs, selected_funcs=selected_funcs, params=params)\n",
    "\n",
    "    X_features = fe.fit_transform(X)\n",
    "    return X_features"
   ]
  },
  {
   "cell_type": "code",
   "execution_count": 39,
   "id": "f028e5ff",
   "metadata": {},
   "outputs": [],
   "source": [
    "def cspFeatures(signal, labels, n_components):\n",
    "    \n",
    "    # Set verbose to 0\n",
    "    mne.set_log_level(verbose='WARNING', return_old_level=False, add_frames=None)\n",
    "\n",
    "    # create csp object\n",
    "\n",
    "    csp = mne.decoding.CSP(n_components=16, reg=None, log=True, norm_trace=False)\n",
    "    # transofrm the signal\n",
    "    csp.fit(signal, labels)\n",
    "    csp_feat = csp.transform(signal)\n",
    "    return csp_feat, csp"
   ]
  },
  {
   "cell_type": "code",
   "execution_count": 40,
   "id": "5dadefa4",
   "metadata": {},
   "outputs": [],
   "source": [
    "def convert2csp(signal, labels, n_components):\n",
    "    \n",
    "    # Set verbose to 0\n",
    "    mne.set_log_level(verbose='WARNING', return_old_level=False, add_frames=None)\n",
    "\n",
    "    # create csp object\n",
    "    csp = mne.decoding.CSP(n_components=n_components, reg=None, log=None, norm_trace=False, transform_into='csp_space')\n",
    "    # transofrm the signal\n",
    "    csp.fit(signal, labels)\n",
    "    csp_signal = csp.transform(signal)\n",
    "    return csp_signal"
   ]
  },
  {
   "cell_type": "code",
   "execution_count": 41,
   "id": "be63f4ea",
   "metadata": {},
   "outputs": [],
   "source": [
    "def plotSignal(elec, model, dataLoader):\n",
    "    # Create iterable object\n",
    "    data_iter = iter(dataLoader)\n",
    "    data, _ = data_iter.next()\n",
    "\n",
    "    \n",
    "    # Reconstruct data using given model\n",
    "    recon_data = model(data).detach()\n",
    "    \n",
    "    \n",
    "    # Plot original and reconstructed data\n",
    "    plt.figure(1)\n",
    "    plt.plot(data[0, elec, :], zorder=1)\n",
    "    plt.plot(recon_data[0, elec, :], zorder=0)\n",
    "    plt.legend(['Original', 'Reconstructed'])\n",
    "    plt.title(f'mse-Loss: {F.mse_loss(recon_data[0, elec, :], data[0, elec, :])}')\n",
    "    plt.xlabel('Time [mS]')\n",
    "    plt.ylabel('μV')\n",
    "\n",
    "    plt.show()"
   ]
  },
  {
   "cell_type": "code",
   "execution_count": null,
   "id": "b9a561a1",
   "metadata": {},
   "outputs": [],
   "source": [
    "# def kl_divergence(p, q):\n",
    "#     mean_p = torch.mean(p, axis=1)\n",
    "#     mean_q = torch.mean(q, axis=1)\n",
    "    \n",
    "    \n",
    "    \n",
    "    "
   ]
  },
  {
   "cell_type": "code",
   "execution_count": 298,
   "id": "7928b1a3",
   "metadata": {},
   "outputs": [],
   "source": [
    "def KLdivergence(x, y):\n",
    "  \"\"\"Compute the Kullback-Leibler divergence between two multivariate samples.\n",
    "  Parameters\n",
    "  ----------\n",
    "  x : 2D array (n,d)\n",
    "    Samples from distribution P, which typically represents the true\n",
    "    distribution.\n",
    "  y : 2D array (m,d)\n",
    "    Samples from distribution Q, which typically represents the approximate\n",
    "    distribution.\n",
    "  Returns\n",
    "  -------\n",
    "  out : float\n",
    "    The estimated Kullback-Leibler divergence D(P||Q).\n",
    "  References\n",
    "  ----------\n",
    "  Pérez-Cruz, F. Kullback-Leibler divergence estimation of\n",
    "continuous distributions IEEE International Symposium on Information\n",
    "Theory, 2008.\n",
    "  \"\"\"\n",
    "  from scipy.spatial import cKDTree as KDTree\n",
    "\n",
    "  # Check the dimensions are consistent\n",
    "  x = torch.atleast_2d(x)\n",
    "  y = torch.atleast_2d(y)\n",
    "\n",
    "  n,d = x.shape\n",
    "  m,dy = y.shape\n",
    "\n",
    "  assert(d == dy)\n",
    "\n",
    "\n",
    "  # Build a KD tree representation of the samples and find the nearest neighbour\n",
    "  # of each point in x.\n",
    "  xtree = KDTree(x)\n",
    "  ytree = KDTree(y)\n",
    "\n",
    "  # Get the first two nearest neighbours for x, since the closest one is the\n",
    "  # sample itself.\n",
    "  r = xtree.query(x, k=2, eps=.01, p=2)[0][:,1]\n",
    "  s = ytree.query(x, k=1, eps=.01, p=2)[0]\n",
    "\n",
    "  # There is a mistake in the paper. In Eq. 14, the right side misses a negative sign\n",
    "  # on the first term of the right hand side.\n",
    "  return -torch.log(r/s).sum() * d / n + torch.log(m / (n - 1.))"
   ]
  },
  {
   "cell_type": "code",
   "execution_count": 299,
   "id": "51d6f5e7",
   "metadata": {},
   "outputs": [],
   "source": [
    "def csp_cross_val(signal, labels, cv_N = 5):\n",
    "    \n",
    "    # Set verbose to 0\n",
    "    mne.set_log_level(verbose='WARNING', return_old_level=False, add_frames=None)\n",
    "\n",
    "\n",
    "    # Assemble a classifier\n",
    "    lda = LinearDiscriminantAnalysis()\n",
    "    csp = mne.decoding.CSP(n_components=16, reg=None, log=True, norm_trace=False)\n",
    "\n",
    "    # Use scikit-learn Pipeline with cross_val_score function\n",
    "    clf = Pipeline([('CSP', csp), ('LDA', lda)])\n",
    "    scores = cross_val_score(clf, signal, labels, cv=cv_N, n_jobs=1)\n",
    "\n",
    "    return np.mean(scores)"
   ]
  },
  {
   "cell_type": "markdown",
   "id": "6bfa2af9",
   "metadata": {},
   "source": [
    "## Parameters\n",
    "\n",
    "channels names:\n",
    "['FC3', 'C1', 'C3', 'C5', 'CP3', 'O1', 'FC4', 'C2', 'C4', 'C6', 'CP4']"
   ]
  },
  {
   "cell_type": "code",
   "execution_count": null,
   "id": "0205cc58",
   "metadata": {
    "scrolled": true
   },
   "outputs": [],
   "source": [
    "subID = '206' # As str 201, 205, 206\n",
    "eyesFlag = 'CC' # str        CC --> closed,   OO --> open\n",
    "dataDir = 'data'\n",
    "dayNumber = range(2,10) # Array of the desired days number\n",
    "block = [1,2,3]\n",
    "trialLen = 6 # In seconds\n",
    "filterLim = [8, 30] # In Hz\n",
    "elec_idxs = range(11) # 0-10 according to channel names\n",
    "\n",
    "train_days = [1,2]\n",
    "test_days = [2,3]\n",
    "\n",
    "csp_feat_num = 6\n",
    "\n",
    "ae_learning_rt = 1e-2\n",
    "n_epochs = 300\n",
    "batch_sz = 16\n",
    "# If you want to use comparison rate - set layers_sz = False\n",
    "comparsion_rt = 0.8\n",
    "layers_sz = [256, 256, 256] # Length = 3\n",
    "convolution_filters = [16, 8, 4]"
   ]
  },
  {
   "cell_type": "code",
   "execution_count": null,
   "id": "f4c76538",
   "metadata": {},
   "outputs": [],
   "source": [
    "# Convert relative path to absolute path\n",
    "dataDir = os.path.abspath(dataDir)\n"
   ]
  },
  {
   "cell_type": "markdown",
   "id": "1c42c491",
   "metadata": {},
   "source": [
    "### Load the files"
   ]
  },
  {
   "cell_type": "code",
   "execution_count": 222,
   "id": "ac98a176",
   "metadata": {},
   "outputs": [],
   "source": [
    "# Load all relevant days files into list\n",
    "dataList = getRecording(dataDir, subID, eyesFlag, dayNumber, block)\n",
    "\n",
    "# Extract and segment all the data\n",
    "dictList = []\n",
    "for dayData in dataList:\n",
    "    # Extract each day data\n",
    "    interData = extractData(dayData)\n",
    "    # Filter the data\n",
    "    interData['EEG'] = eegFilters(interData['EEG'], interData['fs'], filterLim)\n",
    "    interData['EEG'] = interData['EEG'][elec_idxs, :]\n",
    "#     interData['EEG'] = applyICA(eegMat, eegInfo, [0], plotFlag=0)\n",
    "    # Segment the data\n",
    "    dictList.append(segmentEEG(interData, trialLen, printFlag=0))\n",
    "\n",
    "# Stack block of same day\n",
    "dictListStacked = stackBlocks(dictList, len(block))\n",
    "\n",
    "for d in dictListStacked:\n",
    "    d['csp'] = convert2csp(d['segmentedEEG'], d['labels'], csp_feat_num)"
   ]
  },
  {
   "cell_type": "markdown",
   "id": "77144ecd",
   "metadata": {},
   "source": [
    "### Datset and Model classes"
   ]
  },
  {
   "cell_type": "code",
   "execution_count": 223,
   "id": "24b4b627",
   "metadata": {},
   "outputs": [],
   "source": [
    "class EEGDataSet(Dataset):\n",
    "    def __init__(self, EEGDict, days_range=[0,1], test_flag = False):\n",
    "        # Concat dict      \n",
    "        signal, y = self.concat(EEGDict, days_range)\n",
    "        \n",
    "        # Features extraction\n",
    "        feat_mat = mneFeatures(signal, EEGDict[0]['fs'])\n",
    "        csp_feat, csp_transform = cspFeatures(signal, y, 6)\n",
    "        \n",
    "        if test_flag:\n",
    "            X = X_hat = feat_mat\n",
    "        else:     \n",
    "            all_combs, y_comb = self.get_all_combs(feat_mat, y)\n",
    "            X, X_hat = self.arrange_X(feat_mat, all_combs)\n",
    "        \n",
    "        # Convert from numpy to tensor\n",
    "        self.X = torch.tensor(X)\n",
    "        self.X_hat = torch.tensor(X_hat)\n",
    "        self.n_samples = self.X.shape[0]\n",
    "        self.n_feat = self.X.shape[1]\n",
    "        self.feat_mat = feat_mat\n",
    "        self.csp_feat = csp_feat\n",
    "        self.csp_transform = csp_transform\n",
    "        \n",
    "        self.y = y\n",
    "        if not test_flag:\n",
    "            self.y = y_comb\n",
    "        \n",
    "    def __getitem__(self, index):\n",
    "        return self.X[index].float() , self.X_hat[index].float(), self.y[index]\n",
    "    \n",
    "    def __len__(self):\n",
    "        return self.n_samples\n",
    "    \n",
    "    def getAllItems(self):\n",
    "        return self.X.float() , self.X_hat.float(), self.y\n",
    "    \n",
    "    def concat(self, EEGDict, days_range):\n",
    "        X = []\n",
    "        y = []\n",
    "        for d in dictListStacked[days_range[0]:days_range[1]]:\n",
    "            X.append(d['segmentedEEG'])\n",
    "            y.append(d['labels'])\n",
    "\n",
    "        X = np.asarray(X)\n",
    "        y = np.asarray(y)\n",
    "        X = np.concatenate(X)\n",
    "        y = np.concatenate(y)\n",
    "        return X, y\n",
    "    \n",
    "    def get_all_combs(self, X, y):\n",
    "        \n",
    "        cart_product0 = product(np.argwhere(y==0).flatten(),np.argwhere(y==0).flatten())\n",
    "        cart_product1 = product(np.argwhere(y==1).flatten(),np.argwhere(y==1).flatten())\n",
    "        cart_product0 = list(cart_product0)\n",
    "        cart_product1 = list(cart_product1)\n",
    "        y_comb = np.hstack([np.zeros((1, len(cart_product0)), dtype=int), np.ones((1, len(cart_product1)),dtype=int)])\n",
    "        all_combs = cart_product0\n",
    "        all_combs.extend(cart_product1)\n",
    "        return all_combs, y_comb[0]\n",
    "    \n",
    "    def arrange_X(self, feat_mat, all_combs):\n",
    "        X = []\n",
    "        X_hat = []\n",
    "        for comb in all_combs:\n",
    "            X.append(feat_mat[comb[0],:])\n",
    "            X_hat.append(feat_mat[comb[1],:])\n",
    "\n",
    "        X = np.asarray(X)\n",
    "        X_hat = np.asarray(X_hat)\n",
    "        return X, X_hat"
   ]
  },
  {
   "cell_type": "code",
   "execution_count": 224,
   "id": "5ecefb68",
   "metadata": {},
   "outputs": [],
   "source": [
    "class EEGDataSet_signal(Dataset):\n",
    "    def __init__(self, EEGDict, days_range=[0,1]):\n",
    "        \n",
    "        # Concat dict      \n",
    "        X, y = self.concat(EEGDict, days_range)\n",
    "        \n",
    "\n",
    "        \n",
    "        # Convert from numpy to tensor\n",
    "        self.X = torch.tensor(X)\n",
    "        self.n_samples = self.X.shape[0]\n",
    "        self.n_channels = self.X.shape[1]\n",
    "        self.y = y\n",
    "\n",
    "        \n",
    "    def __getitem__(self, index):\n",
    "        return self.X[index].float(), self.y[index]\n",
    "    \n",
    "    def __len__(self):\n",
    "        return self.n_samples\n",
    "    \n",
    "    def getAllItems(self):\n",
    "        return self.X.float() , self.y\n",
    "    \n",
    "    def concat(self, EEGDict, days_range):\n",
    "        X = []\n",
    "        y = []\n",
    "        for d in dictListStacked[days_range[0]:days_range[1]]:\n",
    "            X.append(d['segmentedEEG'])\n",
    "            y.append(d['labels'])\n",
    "\n",
    "        X = np.asarray(X)\n",
    "        y = np.asarray(y)\n",
    "        X = np.concatenate(X)\n",
    "        y = np.concatenate(y)\n",
    "        return X, y"
   ]
  },
  {
   "cell_type": "code",
   "execution_count": 334,
   "id": "3851e687",
   "metadata": {},
   "outputs": [],
   "source": [
    "class convolution_AE(LightningModule):\n",
    "    def __init__(self, input_channels, true_feat_dist, learning_rate=1e-3, filters_n = [16, 32, 64],\\\n",
    "                true_csp_feat = False, csp_transform=False, true_latent_dist = False):\n",
    "        super().__init__()\n",
    "        self.input_channels = input_channels\n",
    "        self.filters_n = filters_n\n",
    "        self.learning_rate = learning_rate\n",
    "        self.float()\n",
    "        self.l1_filters, self.l2_filters, self.l3_filters = self.filters_n\n",
    "        self.true_feat_dist = true_feat_dist\n",
    "        self.use_kldm = False\n",
    "        self.true_csp_feat = true_csp_feat\n",
    "        self.csp_transform = csp_transform\n",
    "        self.true_latent_dist = true_latent_dist\n",
    "        ### The model architecture ###\n",
    "        \n",
    "        # Encoder\n",
    "        self.encoder = nn.Sequential(\n",
    "        nn.Conv1d(self.input_channels, self.l1_filters, kernel_size=15, stride=2, padding=1),\n",
    "        nn.LeakyReLU(),\n",
    "        nn.Conv1d(self.l1_filters, self.l2_filters, kernel_size=10, stride=2, padding=1),\n",
    "        nn.LeakyReLU(),\n",
    "        nn.Conv1d(self.l2_filters, self.l3_filters, kernel_size=5, stride=2, padding=1),\n",
    "        nn.LeakyReLU()\n",
    "        )\n",
    "                \n",
    "        # Decoder\n",
    "        self.decoder = nn.Sequential(\n",
    "        nn.ConvTranspose1d(self.l3_filters, self.l2_filters, kernel_size=5, stride=2, padding=1, output_padding=1),\n",
    "        nn.LeakyReLU(),\n",
    "        nn.ConvTranspose1d(self.l2_filters, self.l1_filters, kernel_size=10, stride=2, padding=1, output_padding=0),\n",
    "        nn.LeakyReLU(),\n",
    "        nn.ConvTranspose1d(self.l1_filters, self.input_channels, kernel_size=15, stride=2, padding=1, output_padding=1),\n",
    "        )\n",
    "\n",
    "    def forward(self, x):\n",
    "        # Forward through the layeres\n",
    "        # Encoder\n",
    "        x = self.encoder(x)\n",
    "\n",
    "        # Decoder\n",
    "        x = self.decoder(x)\n",
    "        return x\n",
    "    \n",
    "    def encode(self, x):\n",
    "        # Forward through the layeres\n",
    "        # Encoder\n",
    "        x = self.encoder(x)\n",
    "        return x\n",
    "    \n",
    "    def training_step(self, batch, batch_idx):\n",
    "        x, y = batch\n",
    "        # Recountruction\n",
    "        latent = self.encoder(x)\n",
    "        # MNE Features\n",
    "#         mneFeat = mneFeatures(logits.detach().numpy(), dictListStacked[0]['fs'])\n",
    "        # CSP Features\n",
    "#         cspFeat = csp_transform.transform(logits.detach().numpy())\n",
    "        # Latent space\n",
    "        latent_flat = torch.flatten(latent, 1)\n",
    "#         print(self.true_latent_dist.shape)\n",
    "        # Features distribution loss\n",
    "#         kld_loss = KLdivergence(self.true_feat_dist, mneFeat)\n",
    "#         kld_loss = KLdivergence(self.true_csp_feat, cspFeat)\n",
    "        # Loss function\n",
    "        if self.use_kldm:\n",
    "            true_mean = torch.mean(self.true_latent_dist, axis = 0)\n",
    "            batch_mean = torch.mean(latent_flat, axis = 0)\n",
    "            print(true_mean.shape, batch_mean.shape)\n",
    "            mean_loss = torch.sum(abs(true_mean - batch_mean))\n",
    "            loss = mean_loss\n",
    "        else:\n",
    "            logits = self.decoder(latent)\n",
    "            loss = F.mse_loss(logits, x)\n",
    "        return loss\n",
    "    \n",
    "    def kldm(self, mode):\n",
    "        self.use_kldm = mode\n",
    "        \n",
    "    def configure_optimizers(self):\n",
    "        # Optimizer\n",
    "        return torch.optim.Adam(self.parameters(), lr=self.learning_rate)"
   ]
  },
  {
   "cell_type": "code",
   "execution_count": 335,
   "id": "ae9aff63",
   "metadata": {},
   "outputs": [],
   "source": [
    "class lightAE(LightningModule):\n",
    "    def __init__(self, n_feat, l_comp_rate = 0.66, learning_rate=1e-3, layers_sz = False):\n",
    "        super().__init__()\n",
    "        self.n_features = n_feat\n",
    "        self.l_comp_rate = l_comp_rate\n",
    "        self.layers_sz = layers_sz\n",
    "        self.learning_rate = learning_rate\n",
    "        self.float()\n",
    "        if self.layers_sz:\n",
    "            self.l1_sz, self.l2_sz, self.l3_sz = self.layers_sz\n",
    "        else:\n",
    "            self.l1_sz = int(self.n_features*self.l_comp_rate)\n",
    "            self.l2_sz = int(self.n_features*self.l_comp_rate**2)\n",
    "            self.l3_sz = int(self.n_features*self.l_comp_rate**3)\n",
    "        \n",
    "        ### The model architecture ###\n",
    "        \n",
    "        # Encoder\n",
    "        self.encoder = nn.Sequential(\n",
    "        nn.Linear(self.n_features, self.l1_sz),\n",
    "        nn.ReLU(),\n",
    "        nn.Linear(self.l1_sz, self.l2_sz),\n",
    "        nn.ReLU(),\n",
    "        nn.Linear(self.l2_sz, self.l3_sz),\n",
    "        )\n",
    "        \n",
    "        \n",
    "        # Decoder 0\n",
    "        self.decoder_0 = nn.Sequential(\n",
    "        nn.Linear(self.l3_sz, self.l2_sz),\n",
    "        nn.ReLU(),\n",
    "        nn.Linear(self.l2_sz, self.l1_sz),\n",
    "        nn.ReLU(),\n",
    "        nn.Linear(self.l1_sz, self.n_features)\n",
    "        )\n",
    "        \n",
    "        # Decoder 1\n",
    "        self.decoder_1 = nn.Sequential(\n",
    "        nn.Linear(self.l3_sz, self.l2_sz),\n",
    "        nn.ReLU(),\n",
    "        nn.Linear(self.l2_sz, self.l1_sz),\n",
    "        nn.ReLU(),\n",
    "        nn.Linear(self.l1_sz, self.n_features)\n",
    "        )\n",
    "\n",
    "    def forward(self, x):\n",
    "        # Forward through the layeres\n",
    "        # Encoder\n",
    "        x = self.encoder(x)\n",
    "\n",
    "        # Decoder\n",
    "        x = self.decoder(x)\n",
    "        return x\n",
    "    \n",
    "    def encode(self, x):\n",
    "        # Forward through the layeres\n",
    "        # Encoder\n",
    "        x = self.encoder(x)\n",
    "        return x\n",
    "    \n",
    "    def training_step(self, batch, batch_idx):\n",
    "        \n",
    "        x, x_hat, y = batch\n",
    "        \n",
    "        latent = self.encode(x)\n",
    "        if y == 0:\n",
    "            reconstruction = self.decoder_0(latent)\n",
    "        else:\n",
    "            reconstruction = self.decoder_1(latent)\n",
    "            \n",
    "        # Loss function\n",
    "        loss = F.mse_loss(reconstruction, x_hat)\n",
    "        return loss \n",
    "    \n",
    "    \n",
    "    def configure_optimizers(self):\n",
    "        # Optimizer\n",
    "        return torch.optim.Adam(self.parameters(), lr=self.learning_rate)\n"
   ]
  },
  {
   "cell_type": "markdown",
   "id": "e43f3c83",
   "metadata": {},
   "source": [
    "# Huge cell for loop"
   ]
  },
  {
   "cell_type": "code",
   "execution_count": 336,
   "id": "a39a1ce2",
   "metadata": {
    "scrolled": true
   },
   "outputs": [
    {
     "name": "stderr",
     "output_type": "stream",
     "text": [
      "C:\\Users\\ophir\\AppData\\Local\\Programs\\Python\\Python36\\lib\\site-packages\\pytorch_lightning\\trainer\\connectors\\callback_connector.py:91: LightningDeprecationWarning: Setting `Trainer(progress_bar_refresh_rate=1)` is deprecated in v1.5 and will be removed in v1.7. Please pass `pytorch_lightning.callbacks.progress.TQDMProgressBar` with `refresh_rate` directly to the Trainer's `callbacks` argument instead. Or, to disable the progress bar pass `enable_progress_bar = False` to the Trainer.\n",
      "  f\"Setting `Trainer(progress_bar_refresh_rate={progress_bar_refresh_rate})` is deprecated in v1.5 and\"\n",
      "C:\\Users\\ophir\\AppData\\Local\\Programs\\Python\\Python36\\lib\\site-packages\\pytorch_lightning\\trainer\\data_loading.py:133: UserWarning: The dataloader, train_dataloader, does not have many workers which may be a bottleneck. Consider increasing the value of the `num_workers` argument` (try 8 which is the number of cpus on this machine) in the `DataLoader` init to improve performance.\n",
      "  f\"The dataloader, {name}, does not have many workers which may be a bottleneck.\"\n",
      "C:\\Users\\ophir\\AppData\\Local\\Programs\\Python\\Python36\\lib\\site-packages\\pytorch_lightning\\trainer\\data_loading.py:433: UserWarning: The number of training samples (3) is smaller than the logging interval Trainer(log_every_n_steps=50). Set a lower value for log_every_n_steps if you want to see logs for the training epoch.\n",
      "  f\"The number of training samples ({self.num_training_batches}) is smaller than the logging interval\"\n"
     ]
    },
    {
     "data": {
      "application/vnd.jupyter.widget-view+json": {
       "model_id": "4b9019a8cfc547c9a9c9989e5add2d19",
       "version_major": 2,
       "version_minor": 0
      },
      "text/plain": [
       "Training: 0it [00:00, ?it/s]"
      ]
     },
     "metadata": {},
     "output_type": "display_data"
    }
   ],
   "source": [
    "train_days=[0,1]\n",
    "\n",
    "\n",
    "\n",
    "AE_list = []\n",
    "\n",
    "# Logger\n",
    "logger = TensorBoardLogger('tb_logs', name='EEG_Logger')\n",
    "\n",
    "# Train Dataset\n",
    "signal_data = EEGDataSet_signal(dictListStacked, train_days)\n",
    "signal_data_loader = DataLoader(dataset=signal_data, batch_size=batch_sz, shuffle=True, num_workers=0)\n",
    "features_training_data = EEGDataSet(dictListStacked, train_days, test_flag=True)\n",
    "signal_train, _ = signal_data.getAllItems()\n",
    "\n",
    "# CSP features and object\n",
    "csp_feat = features_training_data.csp_feat\n",
    "csp_transform = features_training_data.csp_transform\n",
    "\n",
    "# Train model on training day\n",
    "day_zero_AE = convolution_AE(signal_data.n_channels, features_training_data.feat_mat, ae_learning_rt, filters_n=convolution_filters,\\\n",
    "                            true_csp_feat=csp_feat, csp_transform=csp_transform)\n",
    "trainer_1 = pl.Trainer(max_epochs=1, gpus=0, progress_bar_refresh_rate=1, logger=logger)\n",
    "trainer_1.fit(day_zero_AE, train_dataloaders=signal_data_loader)\n",
    "\n",
    "true_latent_dist = day_zero_AE.encode(signal_train)\n",
    "true_latent_dist = torch.flatten(true_latent_dist, 1)\n"
   ]
  },
  {
   "cell_type": "code",
   "execution_count": 337,
   "id": "72dc42f8",
   "metadata": {
    "scrolled": true
   },
   "outputs": [
    {
     "name": "stderr",
     "output_type": "stream",
     "text": [
      "C:\\Users\\ophir\\AppData\\Local\\Programs\\Python\\Python36\\lib\\site-packages\\pytorch_lightning\\trainer\\connectors\\callback_connector.py:91: LightningDeprecationWarning: Setting `Trainer(progress_bar_refresh_rate=20)` is deprecated in v1.5 and will be removed in v1.7. Please pass `pytorch_lightning.callbacks.progress.TQDMProgressBar` with `refresh_rate` directly to the Trainer's `callbacks` argument instead. Or, to disable the progress bar pass `enable_progress_bar = False` to the Trainer.\n",
      "  f\"Setting `Trainer(progress_bar_refresh_rate={progress_bar_refresh_rate})` is deprecated in v1.5 and\"\n",
      "C:\\Users\\ophir\\AppData\\Local\\Programs\\Python\\Python36\\lib\\site-packages\\pytorch_lightning\\trainer\\data_loading.py:133: UserWarning: The dataloader, train_dataloader, does not have many workers which may be a bottleneck. Consider increasing the value of the `num_workers` argument` (try 8 which is the number of cpus on this machine) in the `DataLoader` init to improve performance.\n",
      "  f\"The dataloader, {name}, does not have many workers which may be a bottleneck.\"\n",
      "C:\\Users\\ophir\\AppData\\Local\\Programs\\Python\\Python36\\lib\\site-packages\\pytorch_lightning\\trainer\\data_loading.py:433: UserWarning: The number of training samples (1) is smaller than the logging interval Trainer(log_every_n_steps=50). Set a lower value for log_every_n_steps if you want to see logs for the training epoch.\n",
      "  f\"The number of training samples ({self.num_training_batches}) is smaller than the logging interval\"\n"
     ]
    },
    {
     "data": {
      "application/vnd.jupyter.widget-view+json": {
       "model_id": "420ce79954044f10ac3250e3fb21a9cd",
       "version_major": 2,
       "version_minor": 0
      },
      "text/plain": [
       "Training: 0it [00:00, ?it/s]"
      ]
     },
     "metadata": {},
     "output_type": "display_data"
    },
    {
     "name": "stdout",
     "output_type": "stream",
     "text": [
      "torch.Size([368]) torch.Size([368])\n",
      "torch.Size([368]) torch.Size([368])\n"
     ]
    },
    {
     "ename": "RuntimeError",
     "evalue": "Trying to backward through the graph a second time (or directly access saved tensors after they have already been freed). Saved intermediate values of the graph are freed when you call .backward() or autograd.grad(). Specify retain_graph=True if you need to backward through the graph a second time or if you need to access saved tensors after calling backward.",
     "output_type": "error",
     "traceback": [
      "\u001b[1;31m---------------------------------------------------------------------------\u001b[0m",
      "\u001b[1;31mRuntimeError\u001b[0m                              Traceback (most recent call last)",
      "\u001b[1;32m<ipython-input-337-2a7760d72079>\u001b[0m in \u001b[0;36m<module>\u001b[1;34m\u001b[0m\n\u001b[0;32m     34\u001b[0m     \u001b[1;31m# Create netowrk model\u001b[0m\u001b[1;33m\u001b[0m\u001b[1;33m\u001b[0m\u001b[1;33m\u001b[0m\u001b[0m\n\u001b[0;32m     35\u001b[0m     \u001b[1;31m# Train the model\u001b[0m\u001b[1;33m\u001b[0m\u001b[1;33m\u001b[0m\u001b[1;33m\u001b[0m\u001b[0m\n\u001b[1;32m---> 36\u001b[1;33m     \u001b[0mtrainer_2\u001b[0m\u001b[1;33m.\u001b[0m\u001b[0mfit\u001b[0m\u001b[1;33m(\u001b[0m\u001b[0mAE_list\u001b[0m\u001b[1;33m[\u001b[0m\u001b[0mi\u001b[0m \u001b[1;33m-\u001b[0m \u001b[0mtrain_days\u001b[0m\u001b[1;33m[\u001b[0m\u001b[1;36m1\u001b[0m\u001b[1;33m]\u001b[0m\u001b[1;33m]\u001b[0m\u001b[1;33m,\u001b[0m \u001b[0mtrain_dataloaders\u001b[0m\u001b[1;33m=\u001b[0m\u001b[0msignal_test_data_loader\u001b[0m\u001b[1;33m)\u001b[0m\u001b[1;33m\u001b[0m\u001b[1;33m\u001b[0m\u001b[0m\n\u001b[0m\u001b[0;32m     37\u001b[0m \u001b[1;33m\u001b[0m\u001b[0m\n\u001b[0;32m     38\u001b[0m     \u001b[1;31m# Create features\u001b[0m\u001b[1;33m\u001b[0m\u001b[1;33m\u001b[0m\u001b[1;33m\u001b[0m\u001b[0m\n",
      "\u001b[1;32m~\\AppData\\Local\\Programs\\Python\\Python36\\lib\\site-packages\\pytorch_lightning\\trainer\\trainer.py\u001b[0m in \u001b[0;36mfit\u001b[1;34m(self, model, train_dataloaders, val_dataloaders, datamodule, train_dataloader, ckpt_path)\u001b[0m\n\u001b[0;32m    739\u001b[0m             \u001b[0mtrain_dataloaders\u001b[0m \u001b[1;33m=\u001b[0m \u001b[0mtrain_dataloader\u001b[0m\u001b[1;33m\u001b[0m\u001b[1;33m\u001b[0m\u001b[0m\n\u001b[0;32m    740\u001b[0m         self._call_and_handle_interrupt(\n\u001b[1;32m--> 741\u001b[1;33m             \u001b[0mself\u001b[0m\u001b[1;33m.\u001b[0m\u001b[0m_fit_impl\u001b[0m\u001b[1;33m,\u001b[0m \u001b[0mmodel\u001b[0m\u001b[1;33m,\u001b[0m \u001b[0mtrain_dataloaders\u001b[0m\u001b[1;33m,\u001b[0m \u001b[0mval_dataloaders\u001b[0m\u001b[1;33m,\u001b[0m \u001b[0mdatamodule\u001b[0m\u001b[1;33m,\u001b[0m \u001b[0mckpt_path\u001b[0m\u001b[1;33m\u001b[0m\u001b[1;33m\u001b[0m\u001b[0m\n\u001b[0m\u001b[0;32m    742\u001b[0m         )\n\u001b[0;32m    743\u001b[0m \u001b[1;33m\u001b[0m\u001b[0m\n",
      "\u001b[1;32m~\\AppData\\Local\\Programs\\Python\\Python36\\lib\\site-packages\\pytorch_lightning\\trainer\\trainer.py\u001b[0m in \u001b[0;36m_call_and_handle_interrupt\u001b[1;34m(self, trainer_fn, *args, **kwargs)\u001b[0m\n\u001b[0;32m    683\u001b[0m         \"\"\"\n\u001b[0;32m    684\u001b[0m         \u001b[1;32mtry\u001b[0m\u001b[1;33m:\u001b[0m\u001b[1;33m\u001b[0m\u001b[1;33m\u001b[0m\u001b[0m\n\u001b[1;32m--> 685\u001b[1;33m             \u001b[1;32mreturn\u001b[0m \u001b[0mtrainer_fn\u001b[0m\u001b[1;33m(\u001b[0m\u001b[1;33m*\u001b[0m\u001b[0margs\u001b[0m\u001b[1;33m,\u001b[0m \u001b[1;33m**\u001b[0m\u001b[0mkwargs\u001b[0m\u001b[1;33m)\u001b[0m\u001b[1;33m\u001b[0m\u001b[1;33m\u001b[0m\u001b[0m\n\u001b[0m\u001b[0;32m    686\u001b[0m         \u001b[1;31m# TODO: treat KeyboardInterrupt as BaseException (delete the code below) in v1.7\u001b[0m\u001b[1;33m\u001b[0m\u001b[1;33m\u001b[0m\u001b[1;33m\u001b[0m\u001b[0m\n\u001b[0;32m    687\u001b[0m         \u001b[1;32mexcept\u001b[0m \u001b[0mKeyboardInterrupt\u001b[0m \u001b[1;32mas\u001b[0m \u001b[0mexception\u001b[0m\u001b[1;33m:\u001b[0m\u001b[1;33m\u001b[0m\u001b[1;33m\u001b[0m\u001b[0m\n",
      "\u001b[1;32m~\\AppData\\Local\\Programs\\Python\\Python36\\lib\\site-packages\\pytorch_lightning\\trainer\\trainer.py\u001b[0m in \u001b[0;36m_fit_impl\u001b[1;34m(self, model, train_dataloaders, val_dataloaders, datamodule, ckpt_path)\u001b[0m\n\u001b[0;32m    775\u001b[0m         \u001b[1;31m# TODO: ckpt_path only in v1.7\u001b[0m\u001b[1;33m\u001b[0m\u001b[1;33m\u001b[0m\u001b[1;33m\u001b[0m\u001b[0m\n\u001b[0;32m    776\u001b[0m         \u001b[0mckpt_path\u001b[0m \u001b[1;33m=\u001b[0m \u001b[0mckpt_path\u001b[0m \u001b[1;32mor\u001b[0m \u001b[0mself\u001b[0m\u001b[1;33m.\u001b[0m\u001b[0mresume_from_checkpoint\u001b[0m\u001b[1;33m\u001b[0m\u001b[1;33m\u001b[0m\u001b[0m\n\u001b[1;32m--> 777\u001b[1;33m         \u001b[0mself\u001b[0m\u001b[1;33m.\u001b[0m\u001b[0m_run\u001b[0m\u001b[1;33m(\u001b[0m\u001b[0mmodel\u001b[0m\u001b[1;33m,\u001b[0m \u001b[0mckpt_path\u001b[0m\u001b[1;33m=\u001b[0m\u001b[0mckpt_path\u001b[0m\u001b[1;33m)\u001b[0m\u001b[1;33m\u001b[0m\u001b[1;33m\u001b[0m\u001b[0m\n\u001b[0m\u001b[0;32m    778\u001b[0m \u001b[1;33m\u001b[0m\u001b[0m\n\u001b[0;32m    779\u001b[0m         \u001b[1;32massert\u001b[0m \u001b[0mself\u001b[0m\u001b[1;33m.\u001b[0m\u001b[0mstate\u001b[0m\u001b[1;33m.\u001b[0m\u001b[0mstopped\u001b[0m\u001b[1;33m\u001b[0m\u001b[1;33m\u001b[0m\u001b[0m\n",
      "\u001b[1;32m~\\AppData\\Local\\Programs\\Python\\Python36\\lib\\site-packages\\pytorch_lightning\\trainer\\trainer.py\u001b[0m in \u001b[0;36m_run\u001b[1;34m(self, model, ckpt_path)\u001b[0m\n\u001b[0;32m   1197\u001b[0m \u001b[1;33m\u001b[0m\u001b[0m\n\u001b[0;32m   1198\u001b[0m         \u001b[1;31m# dispatch `start_training` or `start_evaluating` or `start_predicting`\u001b[0m\u001b[1;33m\u001b[0m\u001b[1;33m\u001b[0m\u001b[1;33m\u001b[0m\u001b[0m\n\u001b[1;32m-> 1199\u001b[1;33m         \u001b[0mself\u001b[0m\u001b[1;33m.\u001b[0m\u001b[0m_dispatch\u001b[0m\u001b[1;33m(\u001b[0m\u001b[1;33m)\u001b[0m\u001b[1;33m\u001b[0m\u001b[1;33m\u001b[0m\u001b[0m\n\u001b[0m\u001b[0;32m   1200\u001b[0m \u001b[1;33m\u001b[0m\u001b[0m\n\u001b[0;32m   1201\u001b[0m         \u001b[1;31m# plugin will finalized fitting (e.g. ddp_spawn will load trained model)\u001b[0m\u001b[1;33m\u001b[0m\u001b[1;33m\u001b[0m\u001b[1;33m\u001b[0m\u001b[0m\n",
      "\u001b[1;32m~\\AppData\\Local\\Programs\\Python\\Python36\\lib\\site-packages\\pytorch_lightning\\trainer\\trainer.py\u001b[0m in \u001b[0;36m_dispatch\u001b[1;34m(self)\u001b[0m\n\u001b[0;32m   1277\u001b[0m             \u001b[0mself\u001b[0m\u001b[1;33m.\u001b[0m\u001b[0mtraining_type_plugin\u001b[0m\u001b[1;33m.\u001b[0m\u001b[0mstart_predicting\u001b[0m\u001b[1;33m(\u001b[0m\u001b[0mself\u001b[0m\u001b[1;33m)\u001b[0m\u001b[1;33m\u001b[0m\u001b[1;33m\u001b[0m\u001b[0m\n\u001b[0;32m   1278\u001b[0m         \u001b[1;32melse\u001b[0m\u001b[1;33m:\u001b[0m\u001b[1;33m\u001b[0m\u001b[1;33m\u001b[0m\u001b[0m\n\u001b[1;32m-> 1279\u001b[1;33m             \u001b[0mself\u001b[0m\u001b[1;33m.\u001b[0m\u001b[0mtraining_type_plugin\u001b[0m\u001b[1;33m.\u001b[0m\u001b[0mstart_training\u001b[0m\u001b[1;33m(\u001b[0m\u001b[0mself\u001b[0m\u001b[1;33m)\u001b[0m\u001b[1;33m\u001b[0m\u001b[1;33m\u001b[0m\u001b[0m\n\u001b[0m\u001b[0;32m   1280\u001b[0m \u001b[1;33m\u001b[0m\u001b[0m\n\u001b[0;32m   1281\u001b[0m     \u001b[1;32mdef\u001b[0m \u001b[0mrun_stage\u001b[0m\u001b[1;33m(\u001b[0m\u001b[0mself\u001b[0m\u001b[1;33m)\u001b[0m\u001b[1;33m:\u001b[0m\u001b[1;33m\u001b[0m\u001b[1;33m\u001b[0m\u001b[0m\n",
      "\u001b[1;32m~\\AppData\\Local\\Programs\\Python\\Python36\\lib\\site-packages\\pytorch_lightning\\plugins\\training_type\\training_type_plugin.py\u001b[0m in \u001b[0;36mstart_training\u001b[1;34m(self, trainer)\u001b[0m\n\u001b[0;32m    200\u001b[0m     \u001b[1;32mdef\u001b[0m \u001b[0mstart_training\u001b[0m\u001b[1;33m(\u001b[0m\u001b[0mself\u001b[0m\u001b[1;33m,\u001b[0m \u001b[0mtrainer\u001b[0m\u001b[1;33m:\u001b[0m \u001b[1;34m\"pl.Trainer\"\u001b[0m\u001b[1;33m)\u001b[0m \u001b[1;33m->\u001b[0m \u001b[1;32mNone\u001b[0m\u001b[1;33m:\u001b[0m\u001b[1;33m\u001b[0m\u001b[1;33m\u001b[0m\u001b[0m\n\u001b[0;32m    201\u001b[0m         \u001b[1;31m# double dispatch to initiate the training loop\u001b[0m\u001b[1;33m\u001b[0m\u001b[1;33m\u001b[0m\u001b[1;33m\u001b[0m\u001b[0m\n\u001b[1;32m--> 202\u001b[1;33m         \u001b[0mself\u001b[0m\u001b[1;33m.\u001b[0m\u001b[0m_results\u001b[0m \u001b[1;33m=\u001b[0m \u001b[0mtrainer\u001b[0m\u001b[1;33m.\u001b[0m\u001b[0mrun_stage\u001b[0m\u001b[1;33m(\u001b[0m\u001b[1;33m)\u001b[0m\u001b[1;33m\u001b[0m\u001b[1;33m\u001b[0m\u001b[0m\n\u001b[0m\u001b[0;32m    203\u001b[0m \u001b[1;33m\u001b[0m\u001b[0m\n\u001b[0;32m    204\u001b[0m     \u001b[1;32mdef\u001b[0m \u001b[0mstart_evaluating\u001b[0m\u001b[1;33m(\u001b[0m\u001b[0mself\u001b[0m\u001b[1;33m,\u001b[0m \u001b[0mtrainer\u001b[0m\u001b[1;33m:\u001b[0m \u001b[1;34m\"pl.Trainer\"\u001b[0m\u001b[1;33m)\u001b[0m \u001b[1;33m->\u001b[0m \u001b[1;32mNone\u001b[0m\u001b[1;33m:\u001b[0m\u001b[1;33m\u001b[0m\u001b[1;33m\u001b[0m\u001b[0m\n",
      "\u001b[1;32m~\\AppData\\Local\\Programs\\Python\\Python36\\lib\\site-packages\\pytorch_lightning\\trainer\\trainer.py\u001b[0m in \u001b[0;36mrun_stage\u001b[1;34m(self)\u001b[0m\n\u001b[0;32m   1287\u001b[0m         \u001b[1;32mif\u001b[0m \u001b[0mself\u001b[0m\u001b[1;33m.\u001b[0m\u001b[0mpredicting\u001b[0m\u001b[1;33m:\u001b[0m\u001b[1;33m\u001b[0m\u001b[1;33m\u001b[0m\u001b[0m\n\u001b[0;32m   1288\u001b[0m             \u001b[1;32mreturn\u001b[0m \u001b[0mself\u001b[0m\u001b[1;33m.\u001b[0m\u001b[0m_run_predict\u001b[0m\u001b[1;33m(\u001b[0m\u001b[1;33m)\u001b[0m\u001b[1;33m\u001b[0m\u001b[1;33m\u001b[0m\u001b[0m\n\u001b[1;32m-> 1289\u001b[1;33m         \u001b[1;32mreturn\u001b[0m \u001b[0mself\u001b[0m\u001b[1;33m.\u001b[0m\u001b[0m_run_train\u001b[0m\u001b[1;33m(\u001b[0m\u001b[1;33m)\u001b[0m\u001b[1;33m\u001b[0m\u001b[1;33m\u001b[0m\u001b[0m\n\u001b[0m\u001b[0;32m   1290\u001b[0m \u001b[1;33m\u001b[0m\u001b[0m\n\u001b[0;32m   1291\u001b[0m     \u001b[1;32mdef\u001b[0m \u001b[0m_pre_training_routine\u001b[0m\u001b[1;33m(\u001b[0m\u001b[0mself\u001b[0m\u001b[1;33m)\u001b[0m\u001b[1;33m:\u001b[0m\u001b[1;33m\u001b[0m\u001b[1;33m\u001b[0m\u001b[0m\n",
      "\u001b[1;32m~\\AppData\\Local\\Programs\\Python\\Python36\\lib\\site-packages\\pytorch_lightning\\trainer\\trainer.py\u001b[0m in \u001b[0;36m_run_train\u001b[1;34m(self)\u001b[0m\n\u001b[0;32m   1317\u001b[0m         \u001b[0mself\u001b[0m\u001b[1;33m.\u001b[0m\u001b[0mfit_loop\u001b[0m\u001b[1;33m.\u001b[0m\u001b[0mtrainer\u001b[0m \u001b[1;33m=\u001b[0m \u001b[0mself\u001b[0m\u001b[1;33m\u001b[0m\u001b[1;33m\u001b[0m\u001b[0m\n\u001b[0;32m   1318\u001b[0m         \u001b[1;32mwith\u001b[0m \u001b[0mtorch\u001b[0m\u001b[1;33m.\u001b[0m\u001b[0mautograd\u001b[0m\u001b[1;33m.\u001b[0m\u001b[0mset_detect_anomaly\u001b[0m\u001b[1;33m(\u001b[0m\u001b[0mself\u001b[0m\u001b[1;33m.\u001b[0m\u001b[0m_detect_anomaly\u001b[0m\u001b[1;33m)\u001b[0m\u001b[1;33m:\u001b[0m\u001b[1;33m\u001b[0m\u001b[1;33m\u001b[0m\u001b[0m\n\u001b[1;32m-> 1319\u001b[1;33m             \u001b[0mself\u001b[0m\u001b[1;33m.\u001b[0m\u001b[0mfit_loop\u001b[0m\u001b[1;33m.\u001b[0m\u001b[0mrun\u001b[0m\u001b[1;33m(\u001b[0m\u001b[1;33m)\u001b[0m\u001b[1;33m\u001b[0m\u001b[1;33m\u001b[0m\u001b[0m\n\u001b[0m\u001b[0;32m   1320\u001b[0m \u001b[1;33m\u001b[0m\u001b[0m\n\u001b[0;32m   1321\u001b[0m     \u001b[1;32mdef\u001b[0m \u001b[0m_run_evaluate\u001b[0m\u001b[1;33m(\u001b[0m\u001b[0mself\u001b[0m\u001b[1;33m)\u001b[0m \u001b[1;33m->\u001b[0m \u001b[0m_EVALUATE_OUTPUT\u001b[0m\u001b[1;33m:\u001b[0m\u001b[1;33m\u001b[0m\u001b[1;33m\u001b[0m\u001b[0m\n",
      "\u001b[1;32m~\\AppData\\Local\\Programs\\Python\\Python36\\lib\\site-packages\\pytorch_lightning\\loops\\base.py\u001b[0m in \u001b[0;36mrun\u001b[1;34m(self, *args, **kwargs)\u001b[0m\n\u001b[0;32m    143\u001b[0m             \u001b[1;32mtry\u001b[0m\u001b[1;33m:\u001b[0m\u001b[1;33m\u001b[0m\u001b[1;33m\u001b[0m\u001b[0m\n\u001b[0;32m    144\u001b[0m                 \u001b[0mself\u001b[0m\u001b[1;33m.\u001b[0m\u001b[0mon_advance_start\u001b[0m\u001b[1;33m(\u001b[0m\u001b[1;33m*\u001b[0m\u001b[0margs\u001b[0m\u001b[1;33m,\u001b[0m \u001b[1;33m**\u001b[0m\u001b[0mkwargs\u001b[0m\u001b[1;33m)\u001b[0m\u001b[1;33m\u001b[0m\u001b[1;33m\u001b[0m\u001b[0m\n\u001b[1;32m--> 145\u001b[1;33m                 \u001b[0mself\u001b[0m\u001b[1;33m.\u001b[0m\u001b[0madvance\u001b[0m\u001b[1;33m(\u001b[0m\u001b[1;33m*\u001b[0m\u001b[0margs\u001b[0m\u001b[1;33m,\u001b[0m \u001b[1;33m**\u001b[0m\u001b[0mkwargs\u001b[0m\u001b[1;33m)\u001b[0m\u001b[1;33m\u001b[0m\u001b[1;33m\u001b[0m\u001b[0m\n\u001b[0m\u001b[0;32m    146\u001b[0m                 \u001b[0mself\u001b[0m\u001b[1;33m.\u001b[0m\u001b[0mon_advance_end\u001b[0m\u001b[1;33m(\u001b[0m\u001b[1;33m)\u001b[0m\u001b[1;33m\u001b[0m\u001b[1;33m\u001b[0m\u001b[0m\n\u001b[0;32m    147\u001b[0m                 \u001b[0mself\u001b[0m\u001b[1;33m.\u001b[0m\u001b[0mrestarting\u001b[0m \u001b[1;33m=\u001b[0m \u001b[1;32mFalse\u001b[0m\u001b[1;33m\u001b[0m\u001b[1;33m\u001b[0m\u001b[0m\n",
      "\u001b[1;32m~\\AppData\\Local\\Programs\\Python\\Python36\\lib\\site-packages\\pytorch_lightning\\loops\\fit_loop.py\u001b[0m in \u001b[0;36madvance\u001b[1;34m(self)\u001b[0m\n\u001b[0;32m    232\u001b[0m \u001b[1;33m\u001b[0m\u001b[0m\n\u001b[0;32m    233\u001b[0m         \u001b[1;32mwith\u001b[0m \u001b[0mself\u001b[0m\u001b[1;33m.\u001b[0m\u001b[0mtrainer\u001b[0m\u001b[1;33m.\u001b[0m\u001b[0mprofiler\u001b[0m\u001b[1;33m.\u001b[0m\u001b[0mprofile\u001b[0m\u001b[1;33m(\u001b[0m\u001b[1;34m\"run_training_epoch\"\u001b[0m\u001b[1;33m)\u001b[0m\u001b[1;33m:\u001b[0m\u001b[1;33m\u001b[0m\u001b[1;33m\u001b[0m\u001b[0m\n\u001b[1;32m--> 234\u001b[1;33m             \u001b[0mself\u001b[0m\u001b[1;33m.\u001b[0m\u001b[0mepoch_loop\u001b[0m\u001b[1;33m.\u001b[0m\u001b[0mrun\u001b[0m\u001b[1;33m(\u001b[0m\u001b[0mdata_fetcher\u001b[0m\u001b[1;33m)\u001b[0m\u001b[1;33m\u001b[0m\u001b[1;33m\u001b[0m\u001b[0m\n\u001b[0m\u001b[0;32m    235\u001b[0m \u001b[1;33m\u001b[0m\u001b[0m\n\u001b[0;32m    236\u001b[0m             \u001b[1;31m# the global step is manually decreased here due to backwards compatibility with existing loggers\u001b[0m\u001b[1;33m\u001b[0m\u001b[1;33m\u001b[0m\u001b[1;33m\u001b[0m\u001b[0m\n",
      "\u001b[1;32m~\\AppData\\Local\\Programs\\Python\\Python36\\lib\\site-packages\\pytorch_lightning\\loops\\base.py\u001b[0m in \u001b[0;36mrun\u001b[1;34m(self, *args, **kwargs)\u001b[0m\n\u001b[0;32m    143\u001b[0m             \u001b[1;32mtry\u001b[0m\u001b[1;33m:\u001b[0m\u001b[1;33m\u001b[0m\u001b[1;33m\u001b[0m\u001b[0m\n\u001b[0;32m    144\u001b[0m                 \u001b[0mself\u001b[0m\u001b[1;33m.\u001b[0m\u001b[0mon_advance_start\u001b[0m\u001b[1;33m(\u001b[0m\u001b[1;33m*\u001b[0m\u001b[0margs\u001b[0m\u001b[1;33m,\u001b[0m \u001b[1;33m**\u001b[0m\u001b[0mkwargs\u001b[0m\u001b[1;33m)\u001b[0m\u001b[1;33m\u001b[0m\u001b[1;33m\u001b[0m\u001b[0m\n\u001b[1;32m--> 145\u001b[1;33m                 \u001b[0mself\u001b[0m\u001b[1;33m.\u001b[0m\u001b[0madvance\u001b[0m\u001b[1;33m(\u001b[0m\u001b[1;33m*\u001b[0m\u001b[0margs\u001b[0m\u001b[1;33m,\u001b[0m \u001b[1;33m**\u001b[0m\u001b[0mkwargs\u001b[0m\u001b[1;33m)\u001b[0m\u001b[1;33m\u001b[0m\u001b[1;33m\u001b[0m\u001b[0m\n\u001b[0m\u001b[0;32m    146\u001b[0m                 \u001b[0mself\u001b[0m\u001b[1;33m.\u001b[0m\u001b[0mon_advance_end\u001b[0m\u001b[1;33m(\u001b[0m\u001b[1;33m)\u001b[0m\u001b[1;33m\u001b[0m\u001b[1;33m\u001b[0m\u001b[0m\n\u001b[0;32m    147\u001b[0m                 \u001b[0mself\u001b[0m\u001b[1;33m.\u001b[0m\u001b[0mrestarting\u001b[0m \u001b[1;33m=\u001b[0m \u001b[1;32mFalse\u001b[0m\u001b[1;33m\u001b[0m\u001b[1;33m\u001b[0m\u001b[0m\n",
      "\u001b[1;32m~\\AppData\\Local\\Programs\\Python\\Python36\\lib\\site-packages\\pytorch_lightning\\loops\\epoch\\training_epoch_loop.py\u001b[0m in \u001b[0;36madvance\u001b[1;34m(self, *args, **kwargs)\u001b[0m\n\u001b[0;32m    191\u001b[0m \u001b[1;33m\u001b[0m\u001b[0m\n\u001b[0;32m    192\u001b[0m             \u001b[1;32mwith\u001b[0m \u001b[0mself\u001b[0m\u001b[1;33m.\u001b[0m\u001b[0mtrainer\u001b[0m\u001b[1;33m.\u001b[0m\u001b[0mprofiler\u001b[0m\u001b[1;33m.\u001b[0m\u001b[0mprofile\u001b[0m\u001b[1;33m(\u001b[0m\u001b[1;34m\"run_training_batch\"\u001b[0m\u001b[1;33m)\u001b[0m\u001b[1;33m:\u001b[0m\u001b[1;33m\u001b[0m\u001b[1;33m\u001b[0m\u001b[0m\n\u001b[1;32m--> 193\u001b[1;33m                 \u001b[0mbatch_output\u001b[0m \u001b[1;33m=\u001b[0m \u001b[0mself\u001b[0m\u001b[1;33m.\u001b[0m\u001b[0mbatch_loop\u001b[0m\u001b[1;33m.\u001b[0m\u001b[0mrun\u001b[0m\u001b[1;33m(\u001b[0m\u001b[0mbatch\u001b[0m\u001b[1;33m,\u001b[0m \u001b[0mbatch_idx\u001b[0m\u001b[1;33m)\u001b[0m\u001b[1;33m\u001b[0m\u001b[1;33m\u001b[0m\u001b[0m\n\u001b[0m\u001b[0;32m    194\u001b[0m \u001b[1;33m\u001b[0m\u001b[0m\n\u001b[0;32m    195\u001b[0m         \u001b[0mself\u001b[0m\u001b[1;33m.\u001b[0m\u001b[0mbatch_progress\u001b[0m\u001b[1;33m.\u001b[0m\u001b[0mincrement_processed\u001b[0m\u001b[1;33m(\u001b[0m\u001b[1;33m)\u001b[0m\u001b[1;33m\u001b[0m\u001b[1;33m\u001b[0m\u001b[0m\n",
      "\u001b[1;32m~\\AppData\\Local\\Programs\\Python\\Python36\\lib\\site-packages\\pytorch_lightning\\loops\\base.py\u001b[0m in \u001b[0;36mrun\u001b[1;34m(self, *args, **kwargs)\u001b[0m\n\u001b[0;32m    143\u001b[0m             \u001b[1;32mtry\u001b[0m\u001b[1;33m:\u001b[0m\u001b[1;33m\u001b[0m\u001b[1;33m\u001b[0m\u001b[0m\n\u001b[0;32m    144\u001b[0m                 \u001b[0mself\u001b[0m\u001b[1;33m.\u001b[0m\u001b[0mon_advance_start\u001b[0m\u001b[1;33m(\u001b[0m\u001b[1;33m*\u001b[0m\u001b[0margs\u001b[0m\u001b[1;33m,\u001b[0m \u001b[1;33m**\u001b[0m\u001b[0mkwargs\u001b[0m\u001b[1;33m)\u001b[0m\u001b[1;33m\u001b[0m\u001b[1;33m\u001b[0m\u001b[0m\n\u001b[1;32m--> 145\u001b[1;33m                 \u001b[0mself\u001b[0m\u001b[1;33m.\u001b[0m\u001b[0madvance\u001b[0m\u001b[1;33m(\u001b[0m\u001b[1;33m*\u001b[0m\u001b[0margs\u001b[0m\u001b[1;33m,\u001b[0m \u001b[1;33m**\u001b[0m\u001b[0mkwargs\u001b[0m\u001b[1;33m)\u001b[0m\u001b[1;33m\u001b[0m\u001b[1;33m\u001b[0m\u001b[0m\n\u001b[0m\u001b[0;32m    146\u001b[0m                 \u001b[0mself\u001b[0m\u001b[1;33m.\u001b[0m\u001b[0mon_advance_end\u001b[0m\u001b[1;33m(\u001b[0m\u001b[1;33m)\u001b[0m\u001b[1;33m\u001b[0m\u001b[1;33m\u001b[0m\u001b[0m\n\u001b[0;32m    147\u001b[0m                 \u001b[0mself\u001b[0m\u001b[1;33m.\u001b[0m\u001b[0mrestarting\u001b[0m \u001b[1;33m=\u001b[0m \u001b[1;32mFalse\u001b[0m\u001b[1;33m\u001b[0m\u001b[1;33m\u001b[0m\u001b[0m\n",
      "\u001b[1;32m~\\AppData\\Local\\Programs\\Python\\Python36\\lib\\site-packages\\pytorch_lightning\\loops\\batch\\training_batch_loop.py\u001b[0m in \u001b[0;36madvance\u001b[1;34m(self, batch, batch_idx)\u001b[0m\n\u001b[0;32m     86\u001b[0m         \u001b[1;32mif\u001b[0m \u001b[0mself\u001b[0m\u001b[1;33m.\u001b[0m\u001b[0mtrainer\u001b[0m\u001b[1;33m.\u001b[0m\u001b[0mlightning_module\u001b[0m\u001b[1;33m.\u001b[0m\u001b[0mautomatic_optimization\u001b[0m\u001b[1;33m:\u001b[0m\u001b[1;33m\u001b[0m\u001b[1;33m\u001b[0m\u001b[0m\n\u001b[0;32m     87\u001b[0m             \u001b[0moptimizers\u001b[0m \u001b[1;33m=\u001b[0m \u001b[0m_get_active_optimizers\u001b[0m\u001b[1;33m(\u001b[0m\u001b[0mself\u001b[0m\u001b[1;33m.\u001b[0m\u001b[0mtrainer\u001b[0m\u001b[1;33m.\u001b[0m\u001b[0moptimizers\u001b[0m\u001b[1;33m,\u001b[0m \u001b[0mself\u001b[0m\u001b[1;33m.\u001b[0m\u001b[0mtrainer\u001b[0m\u001b[1;33m.\u001b[0m\u001b[0moptimizer_frequencies\u001b[0m\u001b[1;33m,\u001b[0m \u001b[0mbatch_idx\u001b[0m\u001b[1;33m)\u001b[0m\u001b[1;33m\u001b[0m\u001b[1;33m\u001b[0m\u001b[0m\n\u001b[1;32m---> 88\u001b[1;33m             \u001b[0moutputs\u001b[0m \u001b[1;33m=\u001b[0m \u001b[0mself\u001b[0m\u001b[1;33m.\u001b[0m\u001b[0moptimizer_loop\u001b[0m\u001b[1;33m.\u001b[0m\u001b[0mrun\u001b[0m\u001b[1;33m(\u001b[0m\u001b[0msplit_batch\u001b[0m\u001b[1;33m,\u001b[0m \u001b[0moptimizers\u001b[0m\u001b[1;33m,\u001b[0m \u001b[0mbatch_idx\u001b[0m\u001b[1;33m)\u001b[0m\u001b[1;33m\u001b[0m\u001b[1;33m\u001b[0m\u001b[0m\n\u001b[0m\u001b[0;32m     89\u001b[0m         \u001b[1;32melse\u001b[0m\u001b[1;33m:\u001b[0m\u001b[1;33m\u001b[0m\u001b[1;33m\u001b[0m\u001b[0m\n\u001b[0;32m     90\u001b[0m             \u001b[0moutputs\u001b[0m \u001b[1;33m=\u001b[0m \u001b[0mself\u001b[0m\u001b[1;33m.\u001b[0m\u001b[0mmanual_loop\u001b[0m\u001b[1;33m.\u001b[0m\u001b[0mrun\u001b[0m\u001b[1;33m(\u001b[0m\u001b[0msplit_batch\u001b[0m\u001b[1;33m,\u001b[0m \u001b[0mbatch_idx\u001b[0m\u001b[1;33m)\u001b[0m\u001b[1;33m\u001b[0m\u001b[1;33m\u001b[0m\u001b[0m\n",
      "\u001b[1;32m~\\AppData\\Local\\Programs\\Python\\Python36\\lib\\site-packages\\pytorch_lightning\\loops\\base.py\u001b[0m in \u001b[0;36mrun\u001b[1;34m(self, *args, **kwargs)\u001b[0m\n\u001b[0;32m    143\u001b[0m             \u001b[1;32mtry\u001b[0m\u001b[1;33m:\u001b[0m\u001b[1;33m\u001b[0m\u001b[1;33m\u001b[0m\u001b[0m\n\u001b[0;32m    144\u001b[0m                 \u001b[0mself\u001b[0m\u001b[1;33m.\u001b[0m\u001b[0mon_advance_start\u001b[0m\u001b[1;33m(\u001b[0m\u001b[1;33m*\u001b[0m\u001b[0margs\u001b[0m\u001b[1;33m,\u001b[0m \u001b[1;33m**\u001b[0m\u001b[0mkwargs\u001b[0m\u001b[1;33m)\u001b[0m\u001b[1;33m\u001b[0m\u001b[1;33m\u001b[0m\u001b[0m\n\u001b[1;32m--> 145\u001b[1;33m                 \u001b[0mself\u001b[0m\u001b[1;33m.\u001b[0m\u001b[0madvance\u001b[0m\u001b[1;33m(\u001b[0m\u001b[1;33m*\u001b[0m\u001b[0margs\u001b[0m\u001b[1;33m,\u001b[0m \u001b[1;33m**\u001b[0m\u001b[0mkwargs\u001b[0m\u001b[1;33m)\u001b[0m\u001b[1;33m\u001b[0m\u001b[1;33m\u001b[0m\u001b[0m\n\u001b[0m\u001b[0;32m    146\u001b[0m                 \u001b[0mself\u001b[0m\u001b[1;33m.\u001b[0m\u001b[0mon_advance_end\u001b[0m\u001b[1;33m(\u001b[0m\u001b[1;33m)\u001b[0m\u001b[1;33m\u001b[0m\u001b[1;33m\u001b[0m\u001b[0m\n\u001b[0;32m    147\u001b[0m                 \u001b[0mself\u001b[0m\u001b[1;33m.\u001b[0m\u001b[0mrestarting\u001b[0m \u001b[1;33m=\u001b[0m \u001b[1;32mFalse\u001b[0m\u001b[1;33m\u001b[0m\u001b[1;33m\u001b[0m\u001b[0m\n",
      "\u001b[1;32m~\\AppData\\Local\\Programs\\Python\\Python36\\lib\\site-packages\\pytorch_lightning\\loops\\optimization\\optimizer_loop.py\u001b[0m in \u001b[0;36madvance\u001b[1;34m(self, batch, *args, **kwargs)\u001b[0m\n\u001b[0;32m    217\u001b[0m             \u001b[0mself\u001b[0m\u001b[1;33m.\u001b[0m\u001b[0m_batch_idx\u001b[0m\u001b[1;33m,\u001b[0m\u001b[1;33m\u001b[0m\u001b[1;33m\u001b[0m\u001b[0m\n\u001b[0;32m    218\u001b[0m             \u001b[0mself\u001b[0m\u001b[1;33m.\u001b[0m\u001b[0m_optimizers\u001b[0m\u001b[1;33m[\u001b[0m\u001b[0mself\u001b[0m\u001b[1;33m.\u001b[0m\u001b[0moptim_progress\u001b[0m\u001b[1;33m.\u001b[0m\u001b[0moptimizer_position\u001b[0m\u001b[1;33m]\u001b[0m\u001b[1;33m,\u001b[0m\u001b[1;33m\u001b[0m\u001b[1;33m\u001b[0m\u001b[0m\n\u001b[1;32m--> 219\u001b[1;33m             \u001b[0mself\u001b[0m\u001b[1;33m.\u001b[0m\u001b[0moptimizer_idx\u001b[0m\u001b[1;33m,\u001b[0m\u001b[1;33m\u001b[0m\u001b[1;33m\u001b[0m\u001b[0m\n\u001b[0m\u001b[0;32m    220\u001b[0m         )\n\u001b[0;32m    221\u001b[0m         \u001b[1;32mif\u001b[0m \u001b[0mresult\u001b[0m\u001b[1;33m.\u001b[0m\u001b[0mloss\u001b[0m \u001b[1;32mis\u001b[0m \u001b[1;32mnot\u001b[0m \u001b[1;32mNone\u001b[0m\u001b[1;33m:\u001b[0m\u001b[1;33m\u001b[0m\u001b[1;33m\u001b[0m\u001b[0m\n",
      "\u001b[1;32m~\\AppData\\Local\\Programs\\Python\\Python36\\lib\\site-packages\\pytorch_lightning\\loops\\optimization\\optimizer_loop.py\u001b[0m in \u001b[0;36m_run_optimization\u001b[1;34m(self, split_batch, batch_idx, optimizer, opt_idx)\u001b[0m\n\u001b[0;32m    264\u001b[0m         \u001b[1;31m# gradient update with accumulated gradients\u001b[0m\u001b[1;33m\u001b[0m\u001b[1;33m\u001b[0m\u001b[1;33m\u001b[0m\u001b[0m\n\u001b[0;32m    265\u001b[0m         \u001b[1;32melse\u001b[0m\u001b[1;33m:\u001b[0m\u001b[1;33m\u001b[0m\u001b[1;33m\u001b[0m\u001b[0m\n\u001b[1;32m--> 266\u001b[1;33m             \u001b[0mself\u001b[0m\u001b[1;33m.\u001b[0m\u001b[0m_optimizer_step\u001b[0m\u001b[1;33m(\u001b[0m\u001b[0moptimizer\u001b[0m\u001b[1;33m,\u001b[0m \u001b[0mopt_idx\u001b[0m\u001b[1;33m,\u001b[0m \u001b[0mbatch_idx\u001b[0m\u001b[1;33m,\u001b[0m \u001b[0mclosure\u001b[0m\u001b[1;33m)\u001b[0m\u001b[1;33m\u001b[0m\u001b[1;33m\u001b[0m\u001b[0m\n\u001b[0m\u001b[0;32m    267\u001b[0m \u001b[1;33m\u001b[0m\u001b[0m\n\u001b[0;32m    268\u001b[0m         \u001b[0mresult\u001b[0m \u001b[1;33m=\u001b[0m \u001b[0mclosure\u001b[0m\u001b[1;33m.\u001b[0m\u001b[0mconsume_result\u001b[0m\u001b[1;33m(\u001b[0m\u001b[1;33m)\u001b[0m\u001b[1;33m\u001b[0m\u001b[1;33m\u001b[0m\u001b[0m\n",
      "\u001b[1;32m~\\AppData\\Local\\Programs\\Python\\Python36\\lib\\site-packages\\pytorch_lightning\\loops\\optimization\\optimizer_loop.py\u001b[0m in \u001b[0;36m_optimizer_step\u001b[1;34m(self, optimizer, opt_idx, batch_idx, train_step_and_backward_closure)\u001b[0m\n\u001b[0;32m    384\u001b[0m             \u001b[0mon_tpu\u001b[0m\u001b[1;33m=\u001b[0m\u001b[1;33m(\u001b[0m\u001b[0mself\u001b[0m\u001b[1;33m.\u001b[0m\u001b[0mtrainer\u001b[0m\u001b[1;33m.\u001b[0m\u001b[0m_device_type\u001b[0m \u001b[1;33m==\u001b[0m \u001b[0mDeviceType\u001b[0m\u001b[1;33m.\u001b[0m\u001b[0mTPU\u001b[0m \u001b[1;32mand\u001b[0m \u001b[0m_TPU_AVAILABLE\u001b[0m\u001b[1;33m)\u001b[0m\u001b[1;33m,\u001b[0m\u001b[1;33m\u001b[0m\u001b[1;33m\u001b[0m\u001b[0m\n\u001b[0;32m    385\u001b[0m             \u001b[0musing_native_amp\u001b[0m\u001b[1;33m=\u001b[0m\u001b[1;33m(\u001b[0m\u001b[0mself\u001b[0m\u001b[1;33m.\u001b[0m\u001b[0mtrainer\u001b[0m\u001b[1;33m.\u001b[0m\u001b[0mamp_backend\u001b[0m \u001b[1;32mis\u001b[0m \u001b[1;32mnot\u001b[0m \u001b[1;32mNone\u001b[0m \u001b[1;32mand\u001b[0m \u001b[0mself\u001b[0m\u001b[1;33m.\u001b[0m\u001b[0mtrainer\u001b[0m\u001b[1;33m.\u001b[0m\u001b[0mamp_backend\u001b[0m \u001b[1;33m==\u001b[0m \u001b[0mAMPType\u001b[0m\u001b[1;33m.\u001b[0m\u001b[0mNATIVE\u001b[0m\u001b[1;33m)\u001b[0m\u001b[1;33m,\u001b[0m\u001b[1;33m\u001b[0m\u001b[1;33m\u001b[0m\u001b[0m\n\u001b[1;32m--> 386\u001b[1;33m             \u001b[0musing_lbfgs\u001b[0m\u001b[1;33m=\u001b[0m\u001b[0mis_lbfgs\u001b[0m\u001b[1;33m,\u001b[0m\u001b[1;33m\u001b[0m\u001b[1;33m\u001b[0m\u001b[0m\n\u001b[0m\u001b[0;32m    387\u001b[0m         )\n\u001b[0;32m    388\u001b[0m \u001b[1;33m\u001b[0m\u001b[0m\n",
      "\u001b[1;32m~\\AppData\\Local\\Programs\\Python\\Python36\\lib\\site-packages\\pytorch_lightning\\core\\lightning.py\u001b[0m in \u001b[0;36moptimizer_step\u001b[1;34m(self, epoch, batch_idx, optimizer, optimizer_idx, optimizer_closure, on_tpu, using_native_amp, using_lbfgs)\u001b[0m\n\u001b[0;32m   1650\u001b[0m \u001b[1;33m\u001b[0m\u001b[0m\n\u001b[0;32m   1651\u001b[0m         \"\"\"\n\u001b[1;32m-> 1652\u001b[1;33m         \u001b[0moptimizer\u001b[0m\u001b[1;33m.\u001b[0m\u001b[0mstep\u001b[0m\u001b[1;33m(\u001b[0m\u001b[0mclosure\u001b[0m\u001b[1;33m=\u001b[0m\u001b[0moptimizer_closure\u001b[0m\u001b[1;33m)\u001b[0m\u001b[1;33m\u001b[0m\u001b[1;33m\u001b[0m\u001b[0m\n\u001b[0m\u001b[0;32m   1653\u001b[0m \u001b[1;33m\u001b[0m\u001b[0m\n\u001b[0;32m   1654\u001b[0m     \u001b[1;32mdef\u001b[0m \u001b[0moptimizer_zero_grad\u001b[0m\u001b[1;33m(\u001b[0m\u001b[0mself\u001b[0m\u001b[1;33m,\u001b[0m \u001b[0mepoch\u001b[0m\u001b[1;33m:\u001b[0m \u001b[0mint\u001b[0m\u001b[1;33m,\u001b[0m \u001b[0mbatch_idx\u001b[0m\u001b[1;33m:\u001b[0m \u001b[0mint\u001b[0m\u001b[1;33m,\u001b[0m \u001b[0moptimizer\u001b[0m\u001b[1;33m:\u001b[0m \u001b[0mOptimizer\u001b[0m\u001b[1;33m,\u001b[0m \u001b[0moptimizer_idx\u001b[0m\u001b[1;33m:\u001b[0m \u001b[0mint\u001b[0m\u001b[1;33m)\u001b[0m\u001b[1;33m:\u001b[0m\u001b[1;33m\u001b[0m\u001b[1;33m\u001b[0m\u001b[0m\n",
      "\u001b[1;32m~\\AppData\\Local\\Programs\\Python\\Python36\\lib\\site-packages\\pytorch_lightning\\core\\optimizer.py\u001b[0m in \u001b[0;36mstep\u001b[1;34m(self, closure, **kwargs)\u001b[0m\n\u001b[0;32m    162\u001b[0m         \u001b[1;32massert\u001b[0m \u001b[0mtrainer\u001b[0m \u001b[1;32mis\u001b[0m \u001b[1;32mnot\u001b[0m \u001b[1;32mNone\u001b[0m\u001b[1;33m\u001b[0m\u001b[1;33m\u001b[0m\u001b[0m\n\u001b[0;32m    163\u001b[0m         \u001b[1;32mwith\u001b[0m \u001b[0mtrainer\u001b[0m\u001b[1;33m.\u001b[0m\u001b[0mprofiler\u001b[0m\u001b[1;33m.\u001b[0m\u001b[0mprofile\u001b[0m\u001b[1;33m(\u001b[0m\u001b[0mprofiler_action\u001b[0m\u001b[1;33m)\u001b[0m\u001b[1;33m:\u001b[0m\u001b[1;33m\u001b[0m\u001b[1;33m\u001b[0m\u001b[0m\n\u001b[1;32m--> 164\u001b[1;33m             \u001b[0mtrainer\u001b[0m\u001b[1;33m.\u001b[0m\u001b[0maccelerator\u001b[0m\u001b[1;33m.\u001b[0m\u001b[0moptimizer_step\u001b[0m\u001b[1;33m(\u001b[0m\u001b[0mself\u001b[0m\u001b[1;33m.\u001b[0m\u001b[0m_optimizer\u001b[0m\u001b[1;33m,\u001b[0m \u001b[0mself\u001b[0m\u001b[1;33m.\u001b[0m\u001b[0m_optimizer_idx\u001b[0m\u001b[1;33m,\u001b[0m \u001b[0mclosure\u001b[0m\u001b[1;33m,\u001b[0m \u001b[1;33m**\u001b[0m\u001b[0mkwargs\u001b[0m\u001b[1;33m)\u001b[0m\u001b[1;33m\u001b[0m\u001b[1;33m\u001b[0m\u001b[0m\n\u001b[0m",
      "\u001b[1;32m~\\AppData\\Local\\Programs\\Python\\Python36\\lib\\site-packages\\pytorch_lightning\\accelerators\\accelerator.py\u001b[0m in \u001b[0;36moptimizer_step\u001b[1;34m(self, optimizer, opt_idx, closure, model, **kwargs)\u001b[0m\n\u001b[0;32m    337\u001b[0m         \"\"\"\n\u001b[0;32m    338\u001b[0m         \u001b[0mmodel\u001b[0m \u001b[1;33m=\u001b[0m \u001b[0mmodel\u001b[0m \u001b[1;32mor\u001b[0m \u001b[0mself\u001b[0m\u001b[1;33m.\u001b[0m\u001b[0mlightning_module\u001b[0m\u001b[1;33m\u001b[0m\u001b[1;33m\u001b[0m\u001b[0m\n\u001b[1;32m--> 339\u001b[1;33m         \u001b[0mself\u001b[0m\u001b[1;33m.\u001b[0m\u001b[0mprecision_plugin\u001b[0m\u001b[1;33m.\u001b[0m\u001b[0moptimizer_step\u001b[0m\u001b[1;33m(\u001b[0m\u001b[0mmodel\u001b[0m\u001b[1;33m,\u001b[0m \u001b[0moptimizer\u001b[0m\u001b[1;33m,\u001b[0m \u001b[0mopt_idx\u001b[0m\u001b[1;33m,\u001b[0m \u001b[0mclosure\u001b[0m\u001b[1;33m,\u001b[0m \u001b[1;33m**\u001b[0m\u001b[0mkwargs\u001b[0m\u001b[1;33m)\u001b[0m\u001b[1;33m\u001b[0m\u001b[1;33m\u001b[0m\u001b[0m\n\u001b[0m\u001b[0;32m    340\u001b[0m \u001b[1;33m\u001b[0m\u001b[0m\n\u001b[0;32m    341\u001b[0m     \u001b[1;32mdef\u001b[0m \u001b[0moptimizer_zero_grad\u001b[0m\u001b[1;33m(\u001b[0m\u001b[0mself\u001b[0m\u001b[1;33m,\u001b[0m \u001b[0mcurrent_epoch\u001b[0m\u001b[1;33m:\u001b[0m \u001b[0mint\u001b[0m\u001b[1;33m,\u001b[0m \u001b[0mbatch_idx\u001b[0m\u001b[1;33m:\u001b[0m \u001b[0mint\u001b[0m\u001b[1;33m,\u001b[0m \u001b[0moptimizer\u001b[0m\u001b[1;33m:\u001b[0m \u001b[0mOptimizer\u001b[0m\u001b[1;33m,\u001b[0m \u001b[0mopt_idx\u001b[0m\u001b[1;33m:\u001b[0m \u001b[0mint\u001b[0m\u001b[1;33m)\u001b[0m \u001b[1;33m->\u001b[0m \u001b[1;32mNone\u001b[0m\u001b[1;33m:\u001b[0m\u001b[1;33m\u001b[0m\u001b[1;33m\u001b[0m\u001b[0m\n",
      "\u001b[1;32m~\\AppData\\Local\\Programs\\Python\\Python36\\lib\\site-packages\\pytorch_lightning\\plugins\\precision\\precision_plugin.py\u001b[0m in \u001b[0;36moptimizer_step\u001b[1;34m(self, model, optimizer, optimizer_idx, closure, **kwargs)\u001b[0m\n\u001b[0;32m    161\u001b[0m         \u001b[1;32mif\u001b[0m \u001b[0misinstance\u001b[0m\u001b[1;33m(\u001b[0m\u001b[0mmodel\u001b[0m\u001b[1;33m,\u001b[0m \u001b[0mpl\u001b[0m\u001b[1;33m.\u001b[0m\u001b[0mLightningModule\u001b[0m\u001b[1;33m)\u001b[0m\u001b[1;33m:\u001b[0m\u001b[1;33m\u001b[0m\u001b[1;33m\u001b[0m\u001b[0m\n\u001b[0;32m    162\u001b[0m             \u001b[0mclosure\u001b[0m \u001b[1;33m=\u001b[0m \u001b[0mpartial\u001b[0m\u001b[1;33m(\u001b[0m\u001b[0mself\u001b[0m\u001b[1;33m.\u001b[0m\u001b[0m_wrap_closure\u001b[0m\u001b[1;33m,\u001b[0m \u001b[0mmodel\u001b[0m\u001b[1;33m,\u001b[0m \u001b[0moptimizer\u001b[0m\u001b[1;33m,\u001b[0m \u001b[0moptimizer_idx\u001b[0m\u001b[1;33m,\u001b[0m \u001b[0mclosure\u001b[0m\u001b[1;33m)\u001b[0m\u001b[1;33m\u001b[0m\u001b[1;33m\u001b[0m\u001b[0m\n\u001b[1;32m--> 163\u001b[1;33m         \u001b[0moptimizer\u001b[0m\u001b[1;33m.\u001b[0m\u001b[0mstep\u001b[0m\u001b[1;33m(\u001b[0m\u001b[0mclosure\u001b[0m\u001b[1;33m=\u001b[0m\u001b[0mclosure\u001b[0m\u001b[1;33m,\u001b[0m \u001b[1;33m**\u001b[0m\u001b[0mkwargs\u001b[0m\u001b[1;33m)\u001b[0m\u001b[1;33m\u001b[0m\u001b[1;33m\u001b[0m\u001b[0m\n\u001b[0m\u001b[0;32m    164\u001b[0m \u001b[1;33m\u001b[0m\u001b[0m\n\u001b[0;32m    165\u001b[0m     \u001b[1;32mdef\u001b[0m \u001b[0m_track_grad_norm\u001b[0m\u001b[1;33m(\u001b[0m\u001b[0mself\u001b[0m\u001b[1;33m,\u001b[0m \u001b[0mtrainer\u001b[0m\u001b[1;33m:\u001b[0m \u001b[1;34m\"pl.Trainer\"\u001b[0m\u001b[1;33m)\u001b[0m \u001b[1;33m->\u001b[0m \u001b[1;32mNone\u001b[0m\u001b[1;33m:\u001b[0m\u001b[1;33m\u001b[0m\u001b[1;33m\u001b[0m\u001b[0m\n",
      "\u001b[1;32m~\\AppData\\Local\\Programs\\Python\\Python36\\lib\\site-packages\\torch\\optim\\optimizer.py\u001b[0m in \u001b[0;36mwrapper\u001b[1;34m(*args, **kwargs)\u001b[0m\n\u001b[0;32m     86\u001b[0m                 \u001b[0mprofile_name\u001b[0m \u001b[1;33m=\u001b[0m \u001b[1;34m\"Optimizer.step#{}.step\"\u001b[0m\u001b[1;33m.\u001b[0m\u001b[0mformat\u001b[0m\u001b[1;33m(\u001b[0m\u001b[0mobj\u001b[0m\u001b[1;33m.\u001b[0m\u001b[0m__class__\u001b[0m\u001b[1;33m.\u001b[0m\u001b[0m__name__\u001b[0m\u001b[1;33m)\u001b[0m\u001b[1;33m\u001b[0m\u001b[1;33m\u001b[0m\u001b[0m\n\u001b[0;32m     87\u001b[0m                 \u001b[1;32mwith\u001b[0m \u001b[0mtorch\u001b[0m\u001b[1;33m.\u001b[0m\u001b[0mautograd\u001b[0m\u001b[1;33m.\u001b[0m\u001b[0mprofiler\u001b[0m\u001b[1;33m.\u001b[0m\u001b[0mrecord_function\u001b[0m\u001b[1;33m(\u001b[0m\u001b[0mprofile_name\u001b[0m\u001b[1;33m)\u001b[0m\u001b[1;33m:\u001b[0m\u001b[1;33m\u001b[0m\u001b[1;33m\u001b[0m\u001b[0m\n\u001b[1;32m---> 88\u001b[1;33m                     \u001b[1;32mreturn\u001b[0m \u001b[0mfunc\u001b[0m\u001b[1;33m(\u001b[0m\u001b[1;33m*\u001b[0m\u001b[0margs\u001b[0m\u001b[1;33m,\u001b[0m \u001b[1;33m**\u001b[0m\u001b[0mkwargs\u001b[0m\u001b[1;33m)\u001b[0m\u001b[1;33m\u001b[0m\u001b[1;33m\u001b[0m\u001b[0m\n\u001b[0m\u001b[0;32m     89\u001b[0m             \u001b[1;32mreturn\u001b[0m \u001b[0mwrapper\u001b[0m\u001b[1;33m\u001b[0m\u001b[1;33m\u001b[0m\u001b[0m\n\u001b[0;32m     90\u001b[0m \u001b[1;33m\u001b[0m\u001b[0m\n",
      "\u001b[1;32m~\\AppData\\Local\\Programs\\Python\\Python36\\lib\\site-packages\\torch\\autograd\\grad_mode.py\u001b[0m in \u001b[0;36mdecorate_context\u001b[1;34m(*args, **kwargs)\u001b[0m\n\u001b[0;32m     26\u001b[0m         \u001b[1;32mdef\u001b[0m \u001b[0mdecorate_context\u001b[0m\u001b[1;33m(\u001b[0m\u001b[1;33m*\u001b[0m\u001b[0margs\u001b[0m\u001b[1;33m,\u001b[0m \u001b[1;33m**\u001b[0m\u001b[0mkwargs\u001b[0m\u001b[1;33m)\u001b[0m\u001b[1;33m:\u001b[0m\u001b[1;33m\u001b[0m\u001b[1;33m\u001b[0m\u001b[0m\n\u001b[0;32m     27\u001b[0m             \u001b[1;32mwith\u001b[0m \u001b[0mself\u001b[0m\u001b[1;33m.\u001b[0m\u001b[0m__class__\u001b[0m\u001b[1;33m(\u001b[0m\u001b[1;33m)\u001b[0m\u001b[1;33m:\u001b[0m\u001b[1;33m\u001b[0m\u001b[1;33m\u001b[0m\u001b[0m\n\u001b[1;32m---> 28\u001b[1;33m                 \u001b[1;32mreturn\u001b[0m \u001b[0mfunc\u001b[0m\u001b[1;33m(\u001b[0m\u001b[1;33m*\u001b[0m\u001b[0margs\u001b[0m\u001b[1;33m,\u001b[0m \u001b[1;33m**\u001b[0m\u001b[0mkwargs\u001b[0m\u001b[1;33m)\u001b[0m\u001b[1;33m\u001b[0m\u001b[1;33m\u001b[0m\u001b[0m\n\u001b[0m\u001b[0;32m     29\u001b[0m         \u001b[1;32mreturn\u001b[0m \u001b[0mcast\u001b[0m\u001b[1;33m(\u001b[0m\u001b[0mF\u001b[0m\u001b[1;33m,\u001b[0m \u001b[0mdecorate_context\u001b[0m\u001b[1;33m)\u001b[0m\u001b[1;33m\u001b[0m\u001b[1;33m\u001b[0m\u001b[0m\n\u001b[0;32m     30\u001b[0m \u001b[1;33m\u001b[0m\u001b[0m\n",
      "\u001b[1;32m~\\AppData\\Local\\Programs\\Python\\Python36\\lib\\site-packages\\torch\\optim\\adam.py\u001b[0m in \u001b[0;36mstep\u001b[1;34m(self, closure)\u001b[0m\n\u001b[0;32m     90\u001b[0m         \u001b[1;32mif\u001b[0m \u001b[0mclosure\u001b[0m \u001b[1;32mis\u001b[0m \u001b[1;32mnot\u001b[0m \u001b[1;32mNone\u001b[0m\u001b[1;33m:\u001b[0m\u001b[1;33m\u001b[0m\u001b[1;33m\u001b[0m\u001b[0m\n\u001b[0;32m     91\u001b[0m             \u001b[1;32mwith\u001b[0m \u001b[0mtorch\u001b[0m\u001b[1;33m.\u001b[0m\u001b[0menable_grad\u001b[0m\u001b[1;33m(\u001b[0m\u001b[1;33m)\u001b[0m\u001b[1;33m:\u001b[0m\u001b[1;33m\u001b[0m\u001b[1;33m\u001b[0m\u001b[0m\n\u001b[1;32m---> 92\u001b[1;33m                 \u001b[0mloss\u001b[0m \u001b[1;33m=\u001b[0m \u001b[0mclosure\u001b[0m\u001b[1;33m(\u001b[0m\u001b[1;33m)\u001b[0m\u001b[1;33m\u001b[0m\u001b[1;33m\u001b[0m\u001b[0m\n\u001b[0m\u001b[0;32m     93\u001b[0m \u001b[1;33m\u001b[0m\u001b[0m\n\u001b[0;32m     94\u001b[0m         \u001b[1;32mfor\u001b[0m \u001b[0mgroup\u001b[0m \u001b[1;32min\u001b[0m \u001b[0mself\u001b[0m\u001b[1;33m.\u001b[0m\u001b[0mparam_groups\u001b[0m\u001b[1;33m:\u001b[0m\u001b[1;33m\u001b[0m\u001b[1;33m\u001b[0m\u001b[0m\n",
      "\u001b[1;32m~\\AppData\\Local\\Programs\\Python\\Python36\\lib\\site-packages\\pytorch_lightning\\plugins\\precision\\precision_plugin.py\u001b[0m in \u001b[0;36m_wrap_closure\u001b[1;34m(self, model, optimizer, optimizer_idx, closure)\u001b[0m\n\u001b[0;32m    146\u001b[0m         \u001b[0mconsistent\u001b[0m \u001b[1;32mwith\u001b[0m \u001b[0mthe\u001b[0m\u001b[0;31m \u001b[0m\u001b[0;31m`\u001b[0m\u001b[0;31m`\u001b[0m\u001b[0mPrecisionPlugin\u001b[0m\u001b[0;31m`\u001b[0m\u001b[0;31m`\u001b[0m \u001b[0msubclasses\u001b[0m \u001b[0mthat\u001b[0m \u001b[0mcannot\u001b[0m \u001b[1;32mpass\u001b[0m\u001b[0;31m \u001b[0m\u001b[0;31m`\u001b[0m\u001b[0;31m`\u001b[0m\u001b[0moptimizer\u001b[0m\u001b[1;33m.\u001b[0m\u001b[0mstep\u001b[0m\u001b[1;33m(\u001b[0m\u001b[0mclosure\u001b[0m\u001b[1;33m)\u001b[0m\u001b[0;31m`\u001b[0m\u001b[0;31m`\u001b[0m \u001b[0mdirectly\u001b[0m\u001b[1;33m.\u001b[0m\u001b[1;33m\u001b[0m\u001b[1;33m\u001b[0m\u001b[0m\n\u001b[0;32m    147\u001b[0m         \"\"\"\n\u001b[1;32m--> 148\u001b[1;33m         \u001b[0mclosure_result\u001b[0m \u001b[1;33m=\u001b[0m \u001b[0mclosure\u001b[0m\u001b[1;33m(\u001b[0m\u001b[1;33m)\u001b[0m\u001b[1;33m\u001b[0m\u001b[1;33m\u001b[0m\u001b[0m\n\u001b[0m\u001b[0;32m    149\u001b[0m         \u001b[0mself\u001b[0m\u001b[1;33m.\u001b[0m\u001b[0m_after_closure\u001b[0m\u001b[1;33m(\u001b[0m\u001b[0mmodel\u001b[0m\u001b[1;33m,\u001b[0m \u001b[0moptimizer\u001b[0m\u001b[1;33m,\u001b[0m \u001b[0moptimizer_idx\u001b[0m\u001b[1;33m)\u001b[0m\u001b[1;33m\u001b[0m\u001b[1;33m\u001b[0m\u001b[0m\n\u001b[0;32m    150\u001b[0m         \u001b[1;32mreturn\u001b[0m \u001b[0mclosure_result\u001b[0m\u001b[1;33m\u001b[0m\u001b[1;33m\u001b[0m\u001b[0m\n",
      "\u001b[1;32m~\\AppData\\Local\\Programs\\Python\\Python36\\lib\\site-packages\\pytorch_lightning\\loops\\optimization\\optimizer_loop.py\u001b[0m in \u001b[0;36m__call__\u001b[1;34m(self, *args, **kwargs)\u001b[0m\n\u001b[0;32m    158\u001b[0m \u001b[1;33m\u001b[0m\u001b[0m\n\u001b[0;32m    159\u001b[0m     \u001b[1;32mdef\u001b[0m \u001b[0m__call__\u001b[0m\u001b[1;33m(\u001b[0m\u001b[0mself\u001b[0m\u001b[1;33m,\u001b[0m \u001b[1;33m*\u001b[0m\u001b[0margs\u001b[0m\u001b[1;33m:\u001b[0m \u001b[0mAny\u001b[0m\u001b[1;33m,\u001b[0m \u001b[1;33m**\u001b[0m\u001b[0mkwargs\u001b[0m\u001b[1;33m:\u001b[0m \u001b[0mAny\u001b[0m\u001b[1;33m)\u001b[0m \u001b[1;33m->\u001b[0m \u001b[0mOptional\u001b[0m\u001b[1;33m[\u001b[0m\u001b[0mTensor\u001b[0m\u001b[1;33m]\u001b[0m\u001b[1;33m:\u001b[0m\u001b[1;33m\u001b[0m\u001b[1;33m\u001b[0m\u001b[0m\n\u001b[1;32m--> 160\u001b[1;33m         \u001b[0mself\u001b[0m\u001b[1;33m.\u001b[0m\u001b[0m_result\u001b[0m \u001b[1;33m=\u001b[0m \u001b[0mself\u001b[0m\u001b[1;33m.\u001b[0m\u001b[0mclosure\u001b[0m\u001b[1;33m(\u001b[0m\u001b[1;33m*\u001b[0m\u001b[0margs\u001b[0m\u001b[1;33m,\u001b[0m \u001b[1;33m**\u001b[0m\u001b[0mkwargs\u001b[0m\u001b[1;33m)\u001b[0m\u001b[1;33m\u001b[0m\u001b[1;33m\u001b[0m\u001b[0m\n\u001b[0m\u001b[0;32m    161\u001b[0m         \u001b[1;32mreturn\u001b[0m \u001b[0mself\u001b[0m\u001b[1;33m.\u001b[0m\u001b[0m_result\u001b[0m\u001b[1;33m.\u001b[0m\u001b[0mloss\u001b[0m\u001b[1;33m\u001b[0m\u001b[1;33m\u001b[0m\u001b[0m\n\u001b[0;32m    162\u001b[0m \u001b[1;33m\u001b[0m\u001b[0m\n",
      "\u001b[1;32m~\\AppData\\Local\\Programs\\Python\\Python36\\lib\\site-packages\\pytorch_lightning\\loops\\optimization\\optimizer_loop.py\u001b[0m in \u001b[0;36mclosure\u001b[1;34m(self, *args, **kwargs)\u001b[0m\n\u001b[0;32m    153\u001b[0m             \u001b[1;32mif\u001b[0m \u001b[0mself\u001b[0m\u001b[1;33m.\u001b[0m\u001b[0m_backward_fn\u001b[0m \u001b[1;32mis\u001b[0m \u001b[1;32mnot\u001b[0m \u001b[1;32mNone\u001b[0m \u001b[1;32mand\u001b[0m \u001b[0mstep_output\u001b[0m\u001b[1;33m.\u001b[0m\u001b[0mclosure_loss\u001b[0m \u001b[1;32mis\u001b[0m \u001b[1;32mnot\u001b[0m \u001b[1;32mNone\u001b[0m\u001b[1;33m:\u001b[0m\u001b[1;33m\u001b[0m\u001b[1;33m\u001b[0m\u001b[0m\n\u001b[0;32m    154\u001b[0m                 \u001b[1;32mwith\u001b[0m \u001b[0mself\u001b[0m\u001b[1;33m.\u001b[0m\u001b[0m_profiler\u001b[0m\u001b[1;33m.\u001b[0m\u001b[0mprofile\u001b[0m\u001b[1;33m(\u001b[0m\u001b[1;34m\"backward\"\u001b[0m\u001b[1;33m)\u001b[0m\u001b[1;33m:\u001b[0m\u001b[1;33m\u001b[0m\u001b[1;33m\u001b[0m\u001b[0m\n\u001b[1;32m--> 155\u001b[1;33m                     \u001b[0mself\u001b[0m\u001b[1;33m.\u001b[0m\u001b[0m_backward_fn\u001b[0m\u001b[1;33m(\u001b[0m\u001b[0mstep_output\u001b[0m\u001b[1;33m.\u001b[0m\u001b[0mclosure_loss\u001b[0m\u001b[1;33m)\u001b[0m\u001b[1;33m\u001b[0m\u001b[1;33m\u001b[0m\u001b[0m\n\u001b[0m\u001b[0;32m    156\u001b[0m \u001b[1;33m\u001b[0m\u001b[0m\n\u001b[0;32m    157\u001b[0m         \u001b[1;32mreturn\u001b[0m \u001b[0mstep_output\u001b[0m\u001b[1;33m\u001b[0m\u001b[1;33m\u001b[0m\u001b[0m\n",
      "\u001b[1;32m~\\AppData\\Local\\Programs\\Python\\Python36\\lib\\site-packages\\pytorch_lightning\\loops\\optimization\\optimizer_loop.py\u001b[0m in \u001b[0;36mbackward_fn\u001b[1;34m(loss)\u001b[0m\n\u001b[0;32m    325\u001b[0m \u001b[1;33m\u001b[0m\u001b[0m\n\u001b[0;32m    326\u001b[0m         \u001b[1;32mdef\u001b[0m \u001b[0mbackward_fn\u001b[0m\u001b[1;33m(\u001b[0m\u001b[0mloss\u001b[0m\u001b[1;33m:\u001b[0m \u001b[0mTensor\u001b[0m\u001b[1;33m)\u001b[0m \u001b[1;33m->\u001b[0m \u001b[1;32mNone\u001b[0m\u001b[1;33m:\u001b[0m\u001b[1;33m\u001b[0m\u001b[1;33m\u001b[0m\u001b[0m\n\u001b[1;32m--> 327\u001b[1;33m             \u001b[0mself\u001b[0m\u001b[1;33m.\u001b[0m\u001b[0mtrainer\u001b[0m\u001b[1;33m.\u001b[0m\u001b[0maccelerator\u001b[0m\u001b[1;33m.\u001b[0m\u001b[0mbackward\u001b[0m\u001b[1;33m(\u001b[0m\u001b[0mloss\u001b[0m\u001b[1;33m,\u001b[0m \u001b[0moptimizer\u001b[0m\u001b[1;33m,\u001b[0m \u001b[0mopt_idx\u001b[0m\u001b[1;33m)\u001b[0m\u001b[1;33m\u001b[0m\u001b[1;33m\u001b[0m\u001b[0m\n\u001b[0m\u001b[0;32m    328\u001b[0m \u001b[1;33m\u001b[0m\u001b[0m\n\u001b[0;32m    329\u001b[0m             \u001b[1;31m# check if model weights are nan\u001b[0m\u001b[1;33m\u001b[0m\u001b[1;33m\u001b[0m\u001b[1;33m\u001b[0m\u001b[0m\n",
      "\u001b[1;32m~\\AppData\\Local\\Programs\\Python\\Python36\\lib\\site-packages\\pytorch_lightning\\accelerators\\accelerator.py\u001b[0m in \u001b[0;36mbackward\u001b[1;34m(self, closure_loss, *args, **kwargs)\u001b[0m\n\u001b[0;32m    312\u001b[0m         \u001b[0mclosure_loss\u001b[0m \u001b[1;33m=\u001b[0m \u001b[0mself\u001b[0m\u001b[1;33m.\u001b[0m\u001b[0mprecision_plugin\u001b[0m\u001b[1;33m.\u001b[0m\u001b[0mpre_backward\u001b[0m\u001b[1;33m(\u001b[0m\u001b[0mself\u001b[0m\u001b[1;33m.\u001b[0m\u001b[0mlightning_module\u001b[0m\u001b[1;33m,\u001b[0m \u001b[0mclosure_loss\u001b[0m\u001b[1;33m)\u001b[0m\u001b[1;33m\u001b[0m\u001b[1;33m\u001b[0m\u001b[0m\n\u001b[0;32m    313\u001b[0m \u001b[1;33m\u001b[0m\u001b[0m\n\u001b[1;32m--> 314\u001b[1;33m         \u001b[0mself\u001b[0m\u001b[1;33m.\u001b[0m\u001b[0mprecision_plugin\u001b[0m\u001b[1;33m.\u001b[0m\u001b[0mbackward\u001b[0m\u001b[1;33m(\u001b[0m\u001b[0mself\u001b[0m\u001b[1;33m.\u001b[0m\u001b[0mlightning_module\u001b[0m\u001b[1;33m,\u001b[0m \u001b[0mclosure_loss\u001b[0m\u001b[1;33m,\u001b[0m \u001b[1;33m*\u001b[0m\u001b[0margs\u001b[0m\u001b[1;33m,\u001b[0m \u001b[1;33m**\u001b[0m\u001b[0mkwargs\u001b[0m\u001b[1;33m)\u001b[0m\u001b[1;33m\u001b[0m\u001b[1;33m\u001b[0m\u001b[0m\n\u001b[0m\u001b[0;32m    315\u001b[0m \u001b[1;33m\u001b[0m\u001b[0m\n\u001b[0;32m    316\u001b[0m         \u001b[0mclosure_loss\u001b[0m \u001b[1;33m=\u001b[0m \u001b[0mself\u001b[0m\u001b[1;33m.\u001b[0m\u001b[0mprecision_plugin\u001b[0m\u001b[1;33m.\u001b[0m\u001b[0mpost_backward\u001b[0m\u001b[1;33m(\u001b[0m\u001b[0mself\u001b[0m\u001b[1;33m.\u001b[0m\u001b[0mlightning_module\u001b[0m\u001b[1;33m,\u001b[0m \u001b[0mclosure_loss\u001b[0m\u001b[1;33m)\u001b[0m\u001b[1;33m\u001b[0m\u001b[1;33m\u001b[0m\u001b[0m\n",
      "\u001b[1;32m~\\AppData\\Local\\Programs\\Python\\Python36\\lib\\site-packages\\pytorch_lightning\\plugins\\precision\\precision_plugin.py\u001b[0m in \u001b[0;36mbackward\u001b[1;34m(self, model, closure_loss, optimizer, *args, **kwargs)\u001b[0m\n\u001b[0;32m     89\u001b[0m         \u001b[1;31m# do backward pass\u001b[0m\u001b[1;33m\u001b[0m\u001b[1;33m\u001b[0m\u001b[1;33m\u001b[0m\u001b[0m\n\u001b[0;32m     90\u001b[0m         \u001b[1;32mif\u001b[0m \u001b[0mmodel\u001b[0m \u001b[1;32mis\u001b[0m \u001b[1;32mnot\u001b[0m \u001b[1;32mNone\u001b[0m \u001b[1;32mand\u001b[0m \u001b[0misinstance\u001b[0m\u001b[1;33m(\u001b[0m\u001b[0mmodel\u001b[0m\u001b[1;33m,\u001b[0m \u001b[0mpl\u001b[0m\u001b[1;33m.\u001b[0m\u001b[0mLightningModule\u001b[0m\u001b[1;33m)\u001b[0m\u001b[1;33m:\u001b[0m\u001b[1;33m\u001b[0m\u001b[1;33m\u001b[0m\u001b[0m\n\u001b[1;32m---> 91\u001b[1;33m             \u001b[0mmodel\u001b[0m\u001b[1;33m.\u001b[0m\u001b[0mbackward\u001b[0m\u001b[1;33m(\u001b[0m\u001b[0mclosure_loss\u001b[0m\u001b[1;33m,\u001b[0m \u001b[0moptimizer\u001b[0m\u001b[1;33m,\u001b[0m \u001b[1;33m*\u001b[0m\u001b[0margs\u001b[0m\u001b[1;33m,\u001b[0m \u001b[1;33m**\u001b[0m\u001b[0mkwargs\u001b[0m\u001b[1;33m)\u001b[0m\u001b[1;33m\u001b[0m\u001b[1;33m\u001b[0m\u001b[0m\n\u001b[0m\u001b[0;32m     92\u001b[0m         \u001b[1;32melse\u001b[0m\u001b[1;33m:\u001b[0m\u001b[1;33m\u001b[0m\u001b[1;33m\u001b[0m\u001b[0m\n\u001b[0;32m     93\u001b[0m             \u001b[0mself\u001b[0m\u001b[1;33m.\u001b[0m\u001b[0m_run_backward\u001b[0m\u001b[1;33m(\u001b[0m\u001b[0mclosure_loss\u001b[0m\u001b[1;33m,\u001b[0m \u001b[1;33m*\u001b[0m\u001b[0margs\u001b[0m\u001b[1;33m,\u001b[0m \u001b[1;33m**\u001b[0m\u001b[0mkwargs\u001b[0m\u001b[1;33m)\u001b[0m\u001b[1;33m\u001b[0m\u001b[1;33m\u001b[0m\u001b[0m\n",
      "\u001b[1;32m~\\AppData\\Local\\Programs\\Python\\Python36\\lib\\site-packages\\pytorch_lightning\\core\\lightning.py\u001b[0m in \u001b[0;36mbackward\u001b[1;34m(self, loss, optimizer, optimizer_idx, *args, **kwargs)\u001b[0m\n\u001b[0;32m   1432\u001b[0m                 \u001b[0mloss\u001b[0m\u001b[1;33m.\u001b[0m\u001b[0mbackward\u001b[0m\u001b[1;33m(\u001b[0m\u001b[1;33m)\u001b[0m\u001b[1;33m\u001b[0m\u001b[1;33m\u001b[0m\u001b[0m\n\u001b[0;32m   1433\u001b[0m         \"\"\"\n\u001b[1;32m-> 1434\u001b[1;33m         \u001b[0mloss\u001b[0m\u001b[1;33m.\u001b[0m\u001b[0mbackward\u001b[0m\u001b[1;33m(\u001b[0m\u001b[1;33m*\u001b[0m\u001b[0margs\u001b[0m\u001b[1;33m,\u001b[0m \u001b[1;33m**\u001b[0m\u001b[0mkwargs\u001b[0m\u001b[1;33m)\u001b[0m\u001b[1;33m\u001b[0m\u001b[1;33m\u001b[0m\u001b[0m\n\u001b[0m\u001b[0;32m   1435\u001b[0m \u001b[1;33m\u001b[0m\u001b[0m\n\u001b[0;32m   1436\u001b[0m     \u001b[1;32mdef\u001b[0m \u001b[0mtoggle_optimizer\u001b[0m\u001b[1;33m(\u001b[0m\u001b[0mself\u001b[0m\u001b[1;33m,\u001b[0m \u001b[0moptimizer\u001b[0m\u001b[1;33m:\u001b[0m \u001b[0mUnion\u001b[0m\u001b[1;33m[\u001b[0m\u001b[0mOptimizer\u001b[0m\u001b[1;33m,\u001b[0m \u001b[0mLightningOptimizer\u001b[0m\u001b[1;33m]\u001b[0m\u001b[1;33m,\u001b[0m \u001b[0moptimizer_idx\u001b[0m\u001b[1;33m:\u001b[0m \u001b[0mint\u001b[0m\u001b[1;33m)\u001b[0m \u001b[1;33m->\u001b[0m \u001b[1;32mNone\u001b[0m\u001b[1;33m:\u001b[0m\u001b[1;33m\u001b[0m\u001b[1;33m\u001b[0m\u001b[0m\n",
      "\u001b[1;32m~\\AppData\\Local\\Programs\\Python\\Python36\\lib\\site-packages\\torch\\_tensor.py\u001b[0m in \u001b[0;36mbackward\u001b[1;34m(self, gradient, retain_graph, create_graph, inputs)\u001b[0m\n\u001b[0;32m    305\u001b[0m                 \u001b[0mcreate_graph\u001b[0m\u001b[1;33m=\u001b[0m\u001b[0mcreate_graph\u001b[0m\u001b[1;33m,\u001b[0m\u001b[1;33m\u001b[0m\u001b[1;33m\u001b[0m\u001b[0m\n\u001b[0;32m    306\u001b[0m                 inputs=inputs)\n\u001b[1;32m--> 307\u001b[1;33m         \u001b[0mtorch\u001b[0m\u001b[1;33m.\u001b[0m\u001b[0mautograd\u001b[0m\u001b[1;33m.\u001b[0m\u001b[0mbackward\u001b[0m\u001b[1;33m(\u001b[0m\u001b[0mself\u001b[0m\u001b[1;33m,\u001b[0m \u001b[0mgradient\u001b[0m\u001b[1;33m,\u001b[0m \u001b[0mretain_graph\u001b[0m\u001b[1;33m,\u001b[0m \u001b[0mcreate_graph\u001b[0m\u001b[1;33m,\u001b[0m \u001b[0minputs\u001b[0m\u001b[1;33m=\u001b[0m\u001b[0minputs\u001b[0m\u001b[1;33m)\u001b[0m\u001b[1;33m\u001b[0m\u001b[1;33m\u001b[0m\u001b[0m\n\u001b[0m\u001b[0;32m    308\u001b[0m \u001b[1;33m\u001b[0m\u001b[0m\n\u001b[0;32m    309\u001b[0m     \u001b[1;32mdef\u001b[0m \u001b[0mregister_hook\u001b[0m\u001b[1;33m(\u001b[0m\u001b[0mself\u001b[0m\u001b[1;33m,\u001b[0m \u001b[0mhook\u001b[0m\u001b[1;33m)\u001b[0m\u001b[1;33m:\u001b[0m\u001b[1;33m\u001b[0m\u001b[1;33m\u001b[0m\u001b[0m\n",
      "\u001b[1;32m~\\AppData\\Local\\Programs\\Python\\Python36\\lib\\site-packages\\torch\\autograd\\__init__.py\u001b[0m in \u001b[0;36mbackward\u001b[1;34m(tensors, grad_tensors, retain_graph, create_graph, grad_variables, inputs)\u001b[0m\n\u001b[0;32m    154\u001b[0m     Variable._execution_engine.run_backward(\n\u001b[0;32m    155\u001b[0m         \u001b[0mtensors\u001b[0m\u001b[1;33m,\u001b[0m \u001b[0mgrad_tensors_\u001b[0m\u001b[1;33m,\u001b[0m \u001b[0mretain_graph\u001b[0m\u001b[1;33m,\u001b[0m \u001b[0mcreate_graph\u001b[0m\u001b[1;33m,\u001b[0m \u001b[0minputs\u001b[0m\u001b[1;33m,\u001b[0m\u001b[1;33m\u001b[0m\u001b[1;33m\u001b[0m\u001b[0m\n\u001b[1;32m--> 156\u001b[1;33m         allow_unreachable=True, accumulate_grad=True)  # allow_unreachable flag\n\u001b[0m\u001b[0;32m    157\u001b[0m \u001b[1;33m\u001b[0m\u001b[0m\n\u001b[0;32m    158\u001b[0m \u001b[1;33m\u001b[0m\u001b[0m\n",
      "\u001b[1;31mRuntimeError\u001b[0m: Trying to backward through the graph a second time (or directly access saved tensors after they have already been freed). Saved intermediate values of the graph are freed when you call .backward() or autograd.grad(). Specify retain_graph=True if you need to backward through the graph a second time or if you need to access saved tensors after calling backward."
     ]
    }
   ],
   "source": [
    "# Loop :)\n",
    "AE_list = []\n",
    "\n",
    "bench_diff_day_score = []\n",
    "bench_same_day_score = []\n",
    "\n",
    "AE_diff_day_score = []\n",
    "AE_same_day_score = []\n",
    "\n",
    "for i in range(train_days[1], len(dictListStacked)):\n",
    "    test_days = [i, i+1]\n",
    "    # Create test Datasets\n",
    "    signal_test_data = EEGDataSet_signal(dictListStacked, test_days)\n",
    "    signal_test_data_loader = DataLoader(dataset=signal_test_data, batch_size=len(signal_test_data), shuffle=True, num_workers=0)\n",
    "\n",
    "    feautres_test_data = EEGDataSet(dictListStacked, test_days, test_flag=True)\n",
    "    \n",
    "    # Add AE model perday\n",
    "    AE_list.append(convolution_AE(signal_data.n_channels, \\\n",
    "                                                  features_training_data.feat_mat,\\\n",
    "                                                  ae_learning_rt, filters_n=convolution_filters,\\\n",
    "                                 true_csp_feat=csp_feat, csp_transform=csp_transform,\\\n",
    "                                 true_latent_dist=true_latent_dist))\n",
    "\n",
    "    # Load weights of day 0 model\n",
    "    AE_list[i - train_days[1]].load_state_dict(day_zero_AE.state_dict())\n",
    "    AE_list[i - train_days[1]].kldm(True)\n",
    "\n",
    "    # Run model\n",
    "    # Create logger\n",
    "    logger = TensorBoardLogger('tb_logs', name='EEG_Logger')\n",
    "    # Create trainer\n",
    "    trainer_2 = pl.Trainer(max_epochs=5, gpus=0, progress_bar_refresh_rate=20, logger=logger)\n",
    "    # Create netowrk model\n",
    "    # Train the model\n",
    "    trainer_2.fit(AE_list[i - train_days[1]], train_dataloaders=signal_test_data_loader)\n",
    "    \n",
    "    # Create features\n",
    "    # Bench\n",
    "    X_bench_train = features_training_data.csp_feat\n",
    "    y_train = features_training_data.y\n",
    "\n",
    "    X_bench_test = features_training_data.csp_transform.transform(np.float64(signal_test_data.X.detach().numpy()))\n",
    "    y_test = feautres_test_data.y\n",
    "    # AE\n",
    "    signal_test, _ = signal_test_data.getAllItems()\n",
    "#     # Use latent space as features\n",
    "#     X_AE_train = conv_AE_model.encode(signal_train).detach().numpy()\n",
    "#     X_AE_test = conv_AE_model.encode(signal_test).detach().numpy()\n",
    "\n",
    "#     X_AE_train = np.reshape(X_AE_train, (X_AE_train.shape[0], -1))\n",
    "#     X_AE_test = np.reshape(X_AE_test, (X_AE_test.shape[0], -1))\n",
    "\n",
    "    # Use recountructed signal to extract features from\n",
    "    rec_signal_train = AE_list[i-train_days[1]](signal_train).detach().numpy()\n",
    "    rec_signal_test = AE_list[i-train_days[1]](signal_test).detach().numpy()\n",
    "    \n",
    "#     X_AE_train = cspFeatures(rec_signal_train, y_train, 10)\n",
    "    X_AE_test = features_training_data.csp_transform.transform(rec_signal_test)\n",
    "    \n",
    "    # Create lightgbm models\n",
    "#     lgbModel_bench = lgb.LGBMClassifier(learning_rate=0.09,max_depth=-5)\n",
    "#     lgbModel_ae = lgb.LGBMClassifier(learning_rate=0.09,max_depth=-5)\n",
    "    lgbModel_bench = sklearn.discriminant_analysis.LinearDiscriminantAnalysis()\n",
    "    lgbModel_ae = sklearn.discriminant_analysis.LinearDiscriminantAnalysis()\n",
    "    \n",
    "    # Fit lightGBM models\n",
    "    print('Day #',i)\n",
    "#     scores_bench = cross_val_score(lgbModel_bench, X_bench_test, y_test, cv=5)\n",
    "    scores_bench = csp_cross_val(np.float64(signal_test.detach().numpy()), y_test, cv_N = 5)\n",
    "    print('Bench-\\nIn day accuracy: ', scores_bench)\n",
    "    lgbModel_bench.fit(X_bench_train, y_train)\n",
    "    bench_diff_day = lgbModel_bench.score(X_bench_test, y_test)\n",
    "    print('Different day accuracy: ',bench_diff_day , '\\n')\n",
    "    \n",
    "#     scores_ae = cross_val_score(lgbModel_ae, X_AE_test, y_test, cv=5)\n",
    "#     print('AE-\\nIn day accuracy: ', np.mean(scores_ae))\n",
    "    lgbModel_ae.fit(X_bench_train, y_train)\n",
    "    AE_diff_day = lgbModel_ae.score(X_AE_test, y_test)\n",
    "    print('Different day accuracy: ', AE_diff_day)\n",
    "    \n",
    "    AE_diff_day_score.append(AE_diff_day)\n",
    "    bench_diff_day_score.append(bench_diff_day) \n",
    "#     AE_same_day_score.append(np.mean(scores_ae))\n",
    "    bench_same_day_score.append(scores_bench)"
   ]
  },
  {
   "cell_type": "code",
   "execution_count": 264,
   "id": "598b0079",
   "metadata": {
    "scrolled": true
   },
   "outputs": [
    {
     "data": {
      "image/png": "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\n",
      "text/plain": [
       "<Figure size 432x288 with 1 Axes>"
      ]
     },
     "metadata": {
      "needs_background": "light"
     },
     "output_type": "display_data"
    }
   ],
   "source": [
    "plt.figure(1)\n",
    "plt.plot(range(train_days[1], len(dictListStacked)), AE_diff_day_score, label='AE diff day', color='g')\n",
    "plt.plot(range(train_days[1], len(dictListStacked)), bench_diff_day_score, label='bench diff day', color='r')\n",
    "plt.axhline(y=np.mean(AE_diff_day_score), color='g', linestyle='--')\n",
    "plt.axhline(y=np.mean(bench_diff_day_score), color='r', linestyle='--')\n",
    "plt.plot(range(train_days[1], len(dictListStacked)), bench_same_day_score, label='in day inference', color='b')\n",
    "plt.axhline(y=np.mean(bench_same_day_score), color='b', linestyle='--')\n",
    "plt.legend()\n",
    "plt.show()"
   ]
  },
  {
   "cell_type": "code",
   "execution_count": 265,
   "id": "149d3478",
   "metadata": {},
   "outputs": [
    {
     "data": {
      "image/png": "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\n",
      "text/plain": [
       "<Figure size 432x288 with 1 Axes>"
      ]
     },
     "metadata": {
      "needs_background": "light"
     },
     "output_type": "display_data"
    }
   ],
   "source": [
    "plotSignal(0, AE_list[i-train_days[1]], signal_test_data_loader)"
   ]
  },
  {
   "cell_type": "markdown",
   "id": "6c3cbf47",
   "metadata": {},
   "source": [
    "### Training"
   ]
  },
  {
   "cell_type": "markdown",
   "id": "3b3723e3",
   "metadata": {},
   "source": [
    "## Convolutional AE"
   ]
  },
  {
   "cell_type": "markdown",
   "id": "a69c8589",
   "metadata": {},
   "source": [
    "### Create data sets"
   ]
  },
  {
   "cell_type": "code",
   "execution_count": 75,
   "id": "abc75434",
   "metadata": {},
   "outputs": [],
   "source": [
    "signal_data = EEGDataSet_signal(dictListStacked, train_days)\n",
    "signal_data_loader = DataLoader(dataset=signal_data, batch_size=batch_sz, shuffle=True, num_workers=0)\n",
    "\n",
    "signal_test_data = EEGDataSet_signal(dictListStacked, test_days)\n",
    "signal_test_data_loader = DataLoader(dataset=signal_test_data, batch_size=batch_sz, shuffle=True, num_workers=0)\n",
    "\n",
    "features_training_data = EEGDataSet(dictListStacked, train_days, test_flag=True)\n",
    "features_data_loader = DataLoader(dataset=features_training_data, batch_size=batch_sz, shuffle=True, num_workers=0)\n",
    "\n",
    "feautres_test_data = EEGDataSet(dictListStacked, test_days, test_flag=True)"
   ]
  },
  {
   "cell_type": "markdown",
   "id": "6efba971",
   "metadata": {},
   "source": [
    "### Create Models"
   ]
  },
  {
   "cell_type": "code",
   "execution_count": 77,
   "id": "da45da49",
   "metadata": {
    "scrolled": true
   },
   "outputs": [
    {
     "name": "stderr",
     "output_type": "stream",
     "text": [
      "C:\\Users\\ophir\\AppData\\Local\\Programs\\Python\\Python36\\lib\\site-packages\\pytorch_lightning\\trainer\\connectors\\callback_connector.py:91: LightningDeprecationWarning: Setting `Trainer(progress_bar_refresh_rate=20)` is deprecated in v1.5 and will be removed in v1.7. Please pass `pytorch_lightning.callbacks.progress.TQDMProgressBar` with `refresh_rate` directly to the Trainer's `callbacks` argument instead. Or, to disable the progress bar pass `enable_progress_bar = False` to the Trainer.\n",
      "  f\"Setting `Trainer(progress_bar_refresh_rate={progress_bar_refresh_rate})` is deprecated in v1.5 and\"\n"
     ]
    },
    {
     "ename": "AttributeError",
     "evalue": "'property' object has no attribute 'items'",
     "output_type": "error",
     "traceback": [
      "\u001b[1;31m---------------------------------------------------------------------------\u001b[0m",
      "\u001b[1;31mAttributeError\u001b[0m                            Traceback (most recent call last)",
      "\u001b[1;32m<ipython-input-77-6b6275c8047f>\u001b[0m in \u001b[0;36m<module>\u001b[1;34m\u001b[0m\n\u001b[0;32m     10\u001b[0m \u001b[1;31m# trainer.fit(conv_AE_model, train_dataloaders=signal_data_loader)\u001b[0m\u001b[1;33m\u001b[0m\u001b[1;33m\u001b[0m\u001b[1;33m\u001b[0m\u001b[0m\n\u001b[0;32m     11\u001b[0m \u001b[1;33m\u001b[0m\u001b[0m\n\u001b[1;32m---> 12\u001b[1;33m \u001b[0mtrainer\u001b[0m\u001b[1;33m.\u001b[0m\u001b[0mfit\u001b[0m\u001b[1;33m(\u001b[0m\u001b[0mconvolution_AE\u001b[0m\u001b[1;33m,\u001b[0m \u001b[0mtrain_dataloaders\u001b[0m\u001b[1;33m=\u001b[0m\u001b[0msignal_test_data_loader\u001b[0m\u001b[1;33m)\u001b[0m\u001b[1;33m\u001b[0m\u001b[1;33m\u001b[0m\u001b[0m\n\u001b[0m",
      "\u001b[1;32m~\\AppData\\Local\\Programs\\Python\\Python36\\lib\\site-packages\\pytorch_lightning\\trainer\\trainer.py\u001b[0m in \u001b[0;36mfit\u001b[1;34m(self, model, train_dataloaders, val_dataloaders, datamodule, train_dataloader, ckpt_path)\u001b[0m\n\u001b[0;32m    739\u001b[0m             \u001b[0mtrain_dataloaders\u001b[0m \u001b[1;33m=\u001b[0m \u001b[0mtrain_dataloader\u001b[0m\u001b[1;33m\u001b[0m\u001b[1;33m\u001b[0m\u001b[0m\n\u001b[0;32m    740\u001b[0m         self._call_and_handle_interrupt(\n\u001b[1;32m--> 741\u001b[1;33m             \u001b[0mself\u001b[0m\u001b[1;33m.\u001b[0m\u001b[0m_fit_impl\u001b[0m\u001b[1;33m,\u001b[0m \u001b[0mmodel\u001b[0m\u001b[1;33m,\u001b[0m \u001b[0mtrain_dataloaders\u001b[0m\u001b[1;33m,\u001b[0m \u001b[0mval_dataloaders\u001b[0m\u001b[1;33m,\u001b[0m \u001b[0mdatamodule\u001b[0m\u001b[1;33m,\u001b[0m \u001b[0mckpt_path\u001b[0m\u001b[1;33m\u001b[0m\u001b[1;33m\u001b[0m\u001b[0m\n\u001b[0m\u001b[0;32m    742\u001b[0m         )\n\u001b[0;32m    743\u001b[0m \u001b[1;33m\u001b[0m\u001b[0m\n",
      "\u001b[1;32m~\\AppData\\Local\\Programs\\Python\\Python36\\lib\\site-packages\\pytorch_lightning\\trainer\\trainer.py\u001b[0m in \u001b[0;36m_call_and_handle_interrupt\u001b[1;34m(self, trainer_fn, *args, **kwargs)\u001b[0m\n\u001b[0;32m    683\u001b[0m         \"\"\"\n\u001b[0;32m    684\u001b[0m         \u001b[1;32mtry\u001b[0m\u001b[1;33m:\u001b[0m\u001b[1;33m\u001b[0m\u001b[1;33m\u001b[0m\u001b[0m\n\u001b[1;32m--> 685\u001b[1;33m             \u001b[1;32mreturn\u001b[0m \u001b[0mtrainer_fn\u001b[0m\u001b[1;33m(\u001b[0m\u001b[1;33m*\u001b[0m\u001b[0margs\u001b[0m\u001b[1;33m,\u001b[0m \u001b[1;33m**\u001b[0m\u001b[0mkwargs\u001b[0m\u001b[1;33m)\u001b[0m\u001b[1;33m\u001b[0m\u001b[1;33m\u001b[0m\u001b[0m\n\u001b[0m\u001b[0;32m    686\u001b[0m         \u001b[1;31m# TODO: treat KeyboardInterrupt as BaseException (delete the code below) in v1.7\u001b[0m\u001b[1;33m\u001b[0m\u001b[1;33m\u001b[0m\u001b[1;33m\u001b[0m\u001b[0m\n\u001b[0;32m    687\u001b[0m         \u001b[1;32mexcept\u001b[0m \u001b[0mKeyboardInterrupt\u001b[0m \u001b[1;32mas\u001b[0m \u001b[0mexception\u001b[0m\u001b[1;33m:\u001b[0m\u001b[1;33m\u001b[0m\u001b[1;33m\u001b[0m\u001b[0m\n",
      "\u001b[1;32m~\\AppData\\Local\\Programs\\Python\\Python36\\lib\\site-packages\\pytorch_lightning\\trainer\\trainer.py\u001b[0m in \u001b[0;36m_fit_impl\u001b[1;34m(self, model, train_dataloaders, val_dataloaders, datamodule, ckpt_path)\u001b[0m\n\u001b[0;32m    775\u001b[0m         \u001b[1;31m# TODO: ckpt_path only in v1.7\u001b[0m\u001b[1;33m\u001b[0m\u001b[1;33m\u001b[0m\u001b[1;33m\u001b[0m\u001b[0m\n\u001b[0;32m    776\u001b[0m         \u001b[0mckpt_path\u001b[0m \u001b[1;33m=\u001b[0m \u001b[0mckpt_path\u001b[0m \u001b[1;32mor\u001b[0m \u001b[0mself\u001b[0m\u001b[1;33m.\u001b[0m\u001b[0mresume_from_checkpoint\u001b[0m\u001b[1;33m\u001b[0m\u001b[1;33m\u001b[0m\u001b[0m\n\u001b[1;32m--> 777\u001b[1;33m         \u001b[0mself\u001b[0m\u001b[1;33m.\u001b[0m\u001b[0m_run\u001b[0m\u001b[1;33m(\u001b[0m\u001b[0mmodel\u001b[0m\u001b[1;33m,\u001b[0m \u001b[0mckpt_path\u001b[0m\u001b[1;33m=\u001b[0m\u001b[0mckpt_path\u001b[0m\u001b[1;33m)\u001b[0m\u001b[1;33m\u001b[0m\u001b[1;33m\u001b[0m\u001b[0m\n\u001b[0m\u001b[0;32m    778\u001b[0m \u001b[1;33m\u001b[0m\u001b[0m\n\u001b[0;32m    779\u001b[0m         \u001b[1;32massert\u001b[0m \u001b[0mself\u001b[0m\u001b[1;33m.\u001b[0m\u001b[0mstate\u001b[0m\u001b[1;33m.\u001b[0m\u001b[0mstopped\u001b[0m\u001b[1;33m\u001b[0m\u001b[1;33m\u001b[0m\u001b[0m\n",
      "\u001b[1;32m~\\AppData\\Local\\Programs\\Python\\Python36\\lib\\site-packages\\pytorch_lightning\\trainer\\trainer.py\u001b[0m in \u001b[0;36m_run\u001b[1;34m(self, model, ckpt_path)\u001b[0m\n\u001b[0;32m   1118\u001b[0m         \u001b[1;31m# clean hparams\u001b[0m\u001b[1;33m\u001b[0m\u001b[1;33m\u001b[0m\u001b[1;33m\u001b[0m\u001b[0m\n\u001b[0;32m   1119\u001b[0m         \u001b[1;32mif\u001b[0m \u001b[0mhasattr\u001b[0m\u001b[1;33m(\u001b[0m\u001b[0mmodel\u001b[0m\u001b[1;33m,\u001b[0m \u001b[1;34m\"hparams\"\u001b[0m\u001b[1;33m)\u001b[0m\u001b[1;33m:\u001b[0m\u001b[1;33m\u001b[0m\u001b[1;33m\u001b[0m\u001b[0m\n\u001b[1;32m-> 1120\u001b[1;33m             \u001b[0mparsing\u001b[0m\u001b[1;33m.\u001b[0m\u001b[0mclean_namespace\u001b[0m\u001b[1;33m(\u001b[0m\u001b[0mmodel\u001b[0m\u001b[1;33m.\u001b[0m\u001b[0mhparams\u001b[0m\u001b[1;33m)\u001b[0m\u001b[1;33m\u001b[0m\u001b[1;33m\u001b[0m\u001b[0m\n\u001b[0m\u001b[0;32m   1121\u001b[0m \u001b[1;33m\u001b[0m\u001b[0m\n\u001b[0;32m   1122\u001b[0m         \u001b[1;31m# attach model to the training type plugin\u001b[0m\u001b[1;33m\u001b[0m\u001b[1;33m\u001b[0m\u001b[1;33m\u001b[0m\u001b[0m\n",
      "\u001b[1;32m~\\AppData\\Local\\Programs\\Python\\Python36\\lib\\site-packages\\pytorch_lightning\\utilities\\parsing.py\u001b[0m in \u001b[0;36mclean_namespace\u001b[1;34m(hparams)\u001b[0m\n\u001b[0;32m     99\u001b[0m         \u001b[0mhparams_dict\u001b[0m \u001b[1;33m=\u001b[0m \u001b[0mhparams\u001b[0m\u001b[1;33m.\u001b[0m\u001b[0m__dict__\u001b[0m\u001b[1;33m\u001b[0m\u001b[1;33m\u001b[0m\u001b[0m\n\u001b[0;32m    100\u001b[0m \u001b[1;33m\u001b[0m\u001b[0m\n\u001b[1;32m--> 101\u001b[1;33m     \u001b[0mdel_attrs\u001b[0m \u001b[1;33m=\u001b[0m \u001b[1;33m[\u001b[0m\u001b[0mk\u001b[0m \u001b[1;32mfor\u001b[0m \u001b[0mk\u001b[0m\u001b[1;33m,\u001b[0m \u001b[0mv\u001b[0m \u001b[1;32min\u001b[0m \u001b[0mhparams_dict\u001b[0m\u001b[1;33m.\u001b[0m\u001b[0mitems\u001b[0m\u001b[1;33m(\u001b[0m\u001b[1;33m)\u001b[0m \u001b[1;32mif\u001b[0m \u001b[1;32mnot\u001b[0m \u001b[0mis_picklable\u001b[0m\u001b[1;33m(\u001b[0m\u001b[0mv\u001b[0m\u001b[1;33m)\u001b[0m\u001b[1;33m]\u001b[0m\u001b[1;33m\u001b[0m\u001b[1;33m\u001b[0m\u001b[0m\n\u001b[0m\u001b[0;32m    102\u001b[0m \u001b[1;33m\u001b[0m\u001b[0m\n\u001b[0;32m    103\u001b[0m     \u001b[1;32mfor\u001b[0m \u001b[0mk\u001b[0m \u001b[1;32min\u001b[0m \u001b[0mdel_attrs\u001b[0m\u001b[1;33m:\u001b[0m\u001b[1;33m\u001b[0m\u001b[1;33m\u001b[0m\u001b[0m\n",
      "\u001b[1;31mAttributeError\u001b[0m: 'property' object has no attribute 'items'"
     ]
    }
   ],
   "source": [
    "# Create logger\n",
    "logger = TensorBoardLogger('tb_logs', name='EEG_Logger')\n",
    "# Create trainer\n",
    "trainer = pl.Trainer(max_epochs=100, gpus=0, progress_bar_refresh_rate=20, logger=logger)\n",
    "# Create netowrk model\n",
    "conv_AE_model = convolution_AE(signal_data.n_channels, features_training_data.feat_mat, ae_learning_rt, filters_n=convolution_filters)\n",
    "# Train the model\n",
    "# trainer.fit(conv_AE_model, train_dataloaders=signal_data_loader)\n",
    "\n",
    "trainer.fit(conv_AE_model, train_dataloaders=signal_test_data_loader)"
   ]
  },
  {
   "cell_type": "markdown",
   "id": "edad2100",
   "metadata": {},
   "source": [
    "## Features AE"
   ]
  },
  {
   "cell_type": "code",
   "execution_count": 20,
   "id": "f7fbcbbd",
   "metadata": {
    "scrolled": false
   },
   "outputs": [],
   "source": [
    "# # Create logger\n",
    "# logger = TensorBoardLogger('tb_logs', name='EEG_Logger')\n",
    "# # Create trainer\n",
    "# trainer = pl.Trainer(max_epochs=n_epochs, gpus=0, progress_bar_refresh_rate=20, logger=logger)\n",
    "# # Create netowrk model\n",
    "# features_AE_model = lightAE(training_data.n_feat, comparsion_rt, ae_learning_rt, layers_sz) #\n",
    "# # Train the model\n",
    "# trainer.fit(AEmodel, train_dataloaders=features_data_loader)"
   ]
  },
  {
   "cell_type": "markdown",
   "id": "c4570e9d",
   "metadata": {},
   "source": [
    "### Benchmark"
   ]
  },
  {
   "cell_type": "code",
   "execution_count": 168,
   "id": "d1156e3a",
   "metadata": {},
   "outputs": [],
   "source": [
    "X_bench_train = features_training_data.feat_mat\n",
    "y_train = features_training_data.y\n",
    "\n",
    "X_bench_test = feautres_test_data.feat_mat\n",
    "y_test = feautres_test_data.y"
   ]
  },
  {
   "cell_type": "code",
   "execution_count": 172,
   "id": "022d1941",
   "metadata": {},
   "outputs": [],
   "source": [
    "signal_train, _ = signal_data.getAllItems()\n",
    "signal_test, _ = signal_test_data.getAllItems()\n",
    "\n",
    "# Use latent space as features\n",
    "X_AE_train = conv_AE_model.encode(signal_train).detach().numpy()\n",
    "X_AE_test = conv_AE_model.encode(signal_test).detach().numpy()\n",
    "\n",
    "X_AE_train = np.reshape(X_AE_train, (X_AE_train.shape[0], -1))\n",
    "X_AE_test = np.reshape(X_AE_test, (X_AE_test.shape[0], -1))\n",
    "\n",
    "# # Use recountructed signal to extract features from\n",
    "# X_AE_train = conv_AE_model(signal_train).detach().numpy()\n",
    "# X_AE_test = conv_AE_model(signal_test).detach().numpy()\n",
    "\n",
    "# X_AE_train = mneFeatures(X_AE_train, dictListStacked[0]['fs'])\n",
    "# X_AE_test = mneFeatures(X_AE_test, dictListStacked[0]['fs'])\n",
    "\n"
   ]
  },
  {
   "cell_type": "code",
   "execution_count": 173,
   "id": "1175efe9",
   "metadata": {},
   "outputs": [],
   "source": [
    "# # Compress the geatures to the same latent size as the AE\n",
    "# pca = sklearn.decomposition.PCA(n_components=X_AE_train.shape[1])\n",
    "# # PCA data sets (train_test)\n",
    "# X_pca_train = pca.fit_transform(X_bench_train)\n",
    "# X_pca_test = pca.transform(X_bench_test)\n"
   ]
  },
  {
   "cell_type": "code",
   "execution_count": 174,
   "id": "8b5a831f",
   "metadata": {},
   "outputs": [
    {
     "name": "stdout",
     "output_type": "stream",
     "text": [
      "Bench\n",
      "(50, 198)\n",
      "(51, 198) \n",
      "\n",
      "AE\n",
      "(50, 120)\n",
      "(51, 120) \n",
      "\n"
     ]
    }
   ],
   "source": [
    "# Print shapes of datasets\n",
    "print('Bench')\n",
    "print(X_bench_train.shape)\n",
    "print(X_bench_test.shape, '\\n')\n",
    "\n",
    "print('AE')\n",
    "print(X_AE_train.shape)\n",
    "print(X_AE_test.shape, '\\n')\n",
    "\n",
    "# print('PCA')\n",
    "# print(X_pca_train.shape)\n",
    "# print(X_pca_test.shape, '\\n')"
   ]
  },
  {
   "cell_type": "code",
   "execution_count": 28,
   "id": "91b672ad",
   "metadata": {},
   "outputs": [],
   "source": [
    "lgbModel_bench = lgb.LGBMClassifier(learning_rate=0.09,max_depth=-5)\n",
    "# lgbModel_pca = lgb.LGBMClassifier(learning_rate=0.09,max_depth=-5)\n",
    "lgbModel_ae = lgb.LGBMClassifier(learning_rate=0.09,max_depth=-5)\n",
    "\n",
    "# lgbModel_pca.fit(X_pca_train, y_train)\n"
   ]
  },
  {
   "cell_type": "code",
   "execution_count": 29,
   "id": "71ef143e",
   "metadata": {},
   "outputs": [
    {
     "name": "stdout",
     "output_type": "stream",
     "text": [
      "Bench-\n",
      "In day accuracy:  0.45999999999999996\n",
      "Different day accuracy:  0.6470588235294118 \n",
      "\n"
     ]
    }
   ],
   "source": [
    "scores_bench = cross_val_score(lgbModel_bench, X_bench_train, y_train, cv=5)\n",
    "print('Bench-\\nIn day accuracy: ', np.mean(scores_bench))\n",
    "lgbModel_bench.fit(X_bench_train, y_train)\n",
    "print('Different day accuracy: ', lgbModel_bench.score(X_bench_test, y_test), '\\n')"
   ]
  },
  {
   "cell_type": "code",
   "execution_count": 30,
   "id": "5c0f7955",
   "metadata": {
    "scrolled": false
   },
   "outputs": [
    {
     "name": "stdout",
     "output_type": "stream",
     "text": [
      "AE-\n",
      "In day accuracy:  0.6\n",
      "Different day accuracy:  0.5294117647058824\n"
     ]
    }
   ],
   "source": [
    "# print(lgbModel_pca.score(X_pca_test, y_test))\n",
    "scores_ae = cross_val_score(lgbModel_ae, X_AE_train, y_train, cv=5)\n",
    "print('AE-\\nIn day accuracy: ', np.mean(scores_ae))\n",
    "lgbModel_ae.fit(X_AE_train, y_train)\n",
    "print('Different day accuracy: ', lgbModel_ae.score(X_AE_test, y_test))"
   ]
  },
  {
<<<<<<< HEAD
   "cell_type": "markdown",
   "id": "66d26a62",
   "metadata": {},
   "source": [
    "# Huge cell for loop"
   ]
  },
  {
   "cell_type": "code",
   "execution_count": 145,
   "id": "0798907e",
   "metadata": {
    "collapsed": true
   },
   "outputs": [
    {
     "name": "stderr",
     "output_type": "stream",
     "text": [
      "C:\\Users\\ophir\\AppData\\Local\\Programs\\Python\\Python36\\lib\\site-packages\\numpy\\core\\_asarray.py:83: VisibleDeprecationWarning: Creating an ndarray from ragged nested sequences (which is a list-or-tuple of lists-or-tuples-or ndarrays with different lengths or shapes) is deprecated. If you meant to do this, you must specify 'dtype=object' when creating the ndarray\n",
      "  return array(a, dtype, copy=False, order=order)\n",
      "C:\\Users\\ophir\\AppData\\Local\\Programs\\Python\\Python36\\lib\\site-packages\\pytorch_lightning\\trainer\\connectors\\callback_connector.py:91: LightningDeprecationWarning: Setting `Trainer(progress_bar_refresh_rate=20)` is deprecated in v1.5 and will be removed in v1.7. Please pass `pytorch_lightning.callbacks.progress.TQDMProgressBar` with `refresh_rate` directly to the Trainer's `callbacks` argument instead. Or, to disable the progress bar pass `enable_progress_bar = False` to the Trainer.\n",
      "  f\"Setting `Trainer(progress_bar_refresh_rate={progress_bar_refresh_rate})` is deprecated in v1.5 and\"\n",
      "C:\\Users\\ophir\\AppData\\Local\\Programs\\Python\\Python36\\lib\\site-packages\\pytorch_lightning\\callbacks\\model_checkpoint.py:631: UserWarning: Checkpoint directory tb_logs\\EEG_Logger\\version_357\\checkpoints exists and is not empty.\n",
      "  rank_zero_warn(f\"Checkpoint directory {dirpath} exists and is not empty.\")\n",
      "C:\\Users\\ophir\\AppData\\Local\\Programs\\Python\\Python36\\lib\\site-packages\\pytorch_lightning\\trainer\\data_loading.py:133: UserWarning: The dataloader, train_dataloader, does not have many workers which may be a bottleneck. Consider increasing the value of the `num_workers` argument` (try 8 which is the number of cpus on this machine) in the `DataLoader` init to improve performance.\n",
      "  f\"The dataloader, {name}, does not have many workers which may be a bottleneck.\"\n",
      "C:\\Users\\ophir\\AppData\\Local\\Programs\\Python\\Python36\\lib\\site-packages\\pytorch_lightning\\trainer\\data_loading.py:433: UserWarning: The number of training samples (9) is smaller than the logging interval Trainer(log_every_n_steps=50). Set a lower value for log_every_n_steps if you want to see logs for the training epoch.\n",
      "  f\"The number of training samples ({self.num_training_batches}) is smaller than the logging interval\"\n"
     ]
    },
    {
     "data": {
      "application/vnd.jupyter.widget-view+json": {
       "model_id": "f068c839573b4d7e870b95686f3cc19b",
       "version_major": 2,
       "version_minor": 0
      },
      "text/plain": [
       "Training: 0it [00:00, ?it/s]"
      ]
     },
     "metadata": {},
     "output_type": "display_data"
    }
   ],
   "source": [
    "train_days=[0,3]\n",
    "\n",
    "bench_diff_day_score = []\n",
    "bench_same_day_score = []\n",
    "\n",
    "AE_diff_day_score = []\n",
    "AE_same_day_score = []\n",
    "\n",
    "AE_list = []\n",
    "\n",
    "# Train Dataset\n",
    "signal_data = EEGDataSet_signal(dictListStacked, train_days)\n",
    "signal_data_loader = DataLoader(dataset=signal_data, batch_size=batch_sz, shuffle=True, num_workers=0)\n",
    "features_training_data = EEGDataSet(dictListStacked, train_days, test_flag=True)\n",
    "\n",
    "# Train model on training day\n",
    "day_zero_AE = convolution_AE(signal_data.n_channels, features_training_data.feat_mat, ae_learning_rt, filters_n=convolution_filters)\n",
    "trainer_1 = pl.Trainer(max_epochs=300, gpus=0, progress_bar_refresh_rate=20, logger=logger)\n",
    "trainer_1.fit(day_zero_AE, train_dataloaders=signal_data_loader)"
   ]
  },
  {
   "cell_type": "code",
   "execution_count": 146,
   "id": "cf6a94f3",
   "metadata": {
    "collapsed": true
   },
   "outputs": [
    {
     "name": "stderr",
     "output_type": "stream",
     "text": [
      "C:\\Users\\ophir\\AppData\\Local\\Programs\\Python\\Python36\\lib\\site-packages\\pytorch_lightning\\trainer\\connectors\\callback_connector.py:91: LightningDeprecationWarning: Setting `Trainer(progress_bar_refresh_rate=20)` is deprecated in v1.5 and will be removed in v1.7. Please pass `pytorch_lightning.callbacks.progress.TQDMProgressBar` with `refresh_rate` directly to the Trainer's `callbacks` argument instead. Or, to disable the progress bar pass `enable_progress_bar = False` to the Trainer.\n",
      "  f\"Setting `Trainer(progress_bar_refresh_rate={progress_bar_refresh_rate})` is deprecated in v1.5 and\"\n",
      "C:\\Users\\ophir\\AppData\\Local\\Programs\\Python\\Python36\\lib\\site-packages\\pytorch_lightning\\trainer\\data_loading.py:133: UserWarning: The dataloader, train_dataloader, does not have many workers which may be a bottleneck. Consider increasing the value of the `num_workers` argument` (try 8 which is the number of cpus on this machine) in the `DataLoader` init to improve performance.\n",
      "  f\"The dataloader, {name}, does not have many workers which may be a bottleneck.\"\n",
      "C:\\Users\\ophir\\AppData\\Local\\Programs\\Python\\Python36\\lib\\site-packages\\pytorch_lightning\\trainer\\data_loading.py:433: UserWarning: The number of training samples (2) is smaller than the logging interval Trainer(log_every_n_steps=50). Set a lower value for log_every_n_steps if you want to see logs for the training epoch.\n",
      "  f\"The number of training samples ({self.num_training_batches}) is smaller than the logging interval\"\n"
     ]
    },
    {
     "data": {
      "application/vnd.jupyter.widget-view+json": {
       "model_id": "50bdf2d25c18422593289a35545cb124",
       "version_major": 2,
       "version_minor": 0
      },
      "text/plain": [
       "Training: 0it [00:00, ?it/s]"
      ]
     },
     "metadata": {},
     "output_type": "display_data"
    },
    {
     "name": "stdout",
     "output_type": "stream",
     "text": [
      "Day # 3\n",
      "Bench-\n",
      "In day accuracy:  0.6160714285714285\n",
      "Different day accuracy:  0.7 \n",
      "\n",
      "AE-\n",
      "In day accuracy:  0.6160714285714285\n",
      "Different day accuracy:  0.76\n"
     ]
    },
    {
     "name": "stderr",
     "output_type": "stream",
     "text": [
      "C:\\Users\\ophir\\AppData\\Local\\Programs\\Python\\Python36\\lib\\site-packages\\pytorch_lightning\\trainer\\connectors\\callback_connector.py:91: LightningDeprecationWarning: Setting `Trainer(progress_bar_refresh_rate=20)` is deprecated in v1.5 and will be removed in v1.7. Please pass `pytorch_lightning.callbacks.progress.TQDMProgressBar` with `refresh_rate` directly to the Trainer's `callbacks` argument instead. Or, to disable the progress bar pass `enable_progress_bar = False` to the Trainer.\n",
      "  f\"Setting `Trainer(progress_bar_refresh_rate={progress_bar_refresh_rate})` is deprecated in v1.5 and\"\n",
      "C:\\Users\\ophir\\AppData\\Local\\Programs\\Python\\Python36\\lib\\site-packages\\pytorch_lightning\\trainer\\data_loading.py:133: UserWarning: The dataloader, train_dataloader, does not have many workers which may be a bottleneck. Consider increasing the value of the `num_workers` argument` (try 8 which is the number of cpus on this machine) in the `DataLoader` init to improve performance.\n",
      "  f\"The dataloader, {name}, does not have many workers which may be a bottleneck.\"\n",
      "C:\\Users\\ophir\\AppData\\Local\\Programs\\Python\\Python36\\lib\\site-packages\\pytorch_lightning\\trainer\\data_loading.py:433: UserWarning: The number of training samples (3) is smaller than the logging interval Trainer(log_every_n_steps=50). Set a lower value for log_every_n_steps if you want to see logs for the training epoch.\n",
      "  f\"The number of training samples ({self.num_training_batches}) is smaller than the logging interval\"\n"
     ]
    },
    {
     "data": {
      "application/vnd.jupyter.widget-view+json": {
       "model_id": "d91a577231f941409007c467b2c29bdc",
       "version_major": 2,
       "version_minor": 0
      },
      "text/plain": [
       "Training: 0it [00:00, ?it/s]"
      ]
     },
     "metadata": {},
     "output_type": "display_data"
    },
    {
     "name": "stdout",
     "output_type": "stream",
     "text": [
      "Day # 4\n",
      "Bench-\n",
      "In day accuracy:  0.5446428571428572\n",
      "Different day accuracy:  0.7272727272727273 \n",
      "\n",
      "AE-\n",
      "In day accuracy:  0.5446428571428572\n",
      "Different day accuracy:  0.8181818181818182\n"
     ]
    },
    {
     "name": "stderr",
     "output_type": "stream",
     "text": [
      "C:\\Users\\ophir\\AppData\\Local\\Programs\\Python\\Python36\\lib\\site-packages\\pytorch_lightning\\trainer\\connectors\\callback_connector.py:91: LightningDeprecationWarning: Setting `Trainer(progress_bar_refresh_rate=20)` is deprecated in v1.5 and will be removed in v1.7. Please pass `pytorch_lightning.callbacks.progress.TQDMProgressBar` with `refresh_rate` directly to the Trainer's `callbacks` argument instead. Or, to disable the progress bar pass `enable_progress_bar = False` to the Trainer.\n",
      "  f\"Setting `Trainer(progress_bar_refresh_rate={progress_bar_refresh_rate})` is deprecated in v1.5 and\"\n",
      "C:\\Users\\ophir\\AppData\\Local\\Programs\\Python\\Python36\\lib\\site-packages\\pytorch_lightning\\trainer\\data_loading.py:133: UserWarning: The dataloader, train_dataloader, does not have many workers which may be a bottleneck. Consider increasing the value of the `num_workers` argument` (try 8 which is the number of cpus on this machine) in the `DataLoader` init to improve performance.\n",
      "  f\"The dataloader, {name}, does not have many workers which may be a bottleneck.\"\n",
      "C:\\Users\\ophir\\AppData\\Local\\Programs\\Python\\Python36\\lib\\site-packages\\pytorch_lightning\\trainer\\data_loading.py:433: UserWarning: The number of training samples (3) is smaller than the logging interval Trainer(log_every_n_steps=50). Set a lower value for log_every_n_steps if you want to see logs for the training epoch.\n",
      "  f\"The number of training samples ({self.num_training_batches}) is smaller than the logging interval\"\n"
     ]
    },
    {
     "data": {
      "application/vnd.jupyter.widget-view+json": {
       "model_id": "7fadff9e828d4f22986eeb281b09bac9",
       "version_major": 2,
       "version_minor": 0
      },
      "text/plain": [
       "Training: 0it [00:00, ?it/s]"
      ]
     },
     "metadata": {},
     "output_type": "display_data"
    },
    {
     "name": "stdout",
     "output_type": "stream",
     "text": [
      "Day # 5\n",
      "Bench-\n",
      "In day accuracy:  0.5744047619047619\n",
      "Different day accuracy:  0.5925925925925926 \n",
      "\n",
      "AE-\n",
      "In day accuracy:  0.5744047619047619\n",
      "Different day accuracy:  0.6481481481481481\n"
     ]
    },
    {
     "name": "stderr",
     "output_type": "stream",
     "text": [
      "C:\\Users\\ophir\\AppData\\Local\\Programs\\Python\\Python36\\lib\\site-packages\\pytorch_lightning\\trainer\\connectors\\callback_connector.py:91: LightningDeprecationWarning: Setting `Trainer(progress_bar_refresh_rate=20)` is deprecated in v1.5 and will be removed in v1.7. Please pass `pytorch_lightning.callbacks.progress.TQDMProgressBar` with `refresh_rate` directly to the Trainer's `callbacks` argument instead. Or, to disable the progress bar pass `enable_progress_bar = False` to the Trainer.\n",
      "  f\"Setting `Trainer(progress_bar_refresh_rate={progress_bar_refresh_rate})` is deprecated in v1.5 and\"\n",
      "C:\\Users\\ophir\\AppData\\Local\\Programs\\Python\\Python36\\lib\\site-packages\\pytorch_lightning\\trainer\\data_loading.py:133: UserWarning: The dataloader, train_dataloader, does not have many workers which may be a bottleneck. Consider increasing the value of the `num_workers` argument` (try 8 which is the number of cpus on this machine) in the `DataLoader` init to improve performance.\n",
      "  f\"The dataloader, {name}, does not have many workers which may be a bottleneck.\"\n",
      "C:\\Users\\ophir\\AppData\\Local\\Programs\\Python\\Python36\\lib\\site-packages\\pytorch_lightning\\trainer\\data_loading.py:433: UserWarning: The number of training samples (3) is smaller than the logging interval Trainer(log_every_n_steps=50). Set a lower value for log_every_n_steps if you want to see logs for the training epoch.\n",
      "  f\"The number of training samples ({self.num_training_batches}) is smaller than the logging interval\"\n"
     ]
    },
    {
     "data": {
      "application/vnd.jupyter.widget-view+json": {
       "model_id": "0f031f69ee674ce4bf17cf5f998ad05d",
       "version_major": 2,
       "version_minor": 0
      },
      "text/plain": [
       "Training: 0it [00:00, ?it/s]"
      ]
     },
     "metadata": {},
     "output_type": "display_data"
    },
    {
     "name": "stdout",
     "output_type": "stream",
     "text": [
      "Day # 6\n",
      "Bench-\n",
      "In day accuracy:  0.7559523809523809\n",
      "Different day accuracy:  0.5769230769230769 \n",
      "\n",
      "AE-\n",
      "In day accuracy:  0.7559523809523809\n",
      "Different day accuracy:  0.6153846153846154\n"
     ]
    },
    {
     "name": "stderr",
     "output_type": "stream",
     "text": [
      "C:\\Users\\ophir\\AppData\\Local\\Programs\\Python\\Python36\\lib\\site-packages\\pytorch_lightning\\trainer\\connectors\\callback_connector.py:91: LightningDeprecationWarning: Setting `Trainer(progress_bar_refresh_rate=20)` is deprecated in v1.5 and will be removed in v1.7. Please pass `pytorch_lightning.callbacks.progress.TQDMProgressBar` with `refresh_rate` directly to the Trainer's `callbacks` argument instead. Or, to disable the progress bar pass `enable_progress_bar = False` to the Trainer.\n",
      "  f\"Setting `Trainer(progress_bar_refresh_rate={progress_bar_refresh_rate})` is deprecated in v1.5 and\"\n",
      "C:\\Users\\ophir\\AppData\\Local\\Programs\\Python\\Python36\\lib\\site-packages\\pytorch_lightning\\trainer\\data_loading.py:133: UserWarning: The dataloader, train_dataloader, does not have many workers which may be a bottleneck. Consider increasing the value of the `num_workers` argument` (try 8 which is the number of cpus on this machine) in the `DataLoader` init to improve performance.\n",
      "  f\"The dataloader, {name}, does not have many workers which may be a bottleneck.\"\n",
      "C:\\Users\\ophir\\AppData\\Local\\Programs\\Python\\Python36\\lib\\site-packages\\pytorch_lightning\\trainer\\data_loading.py:433: UserWarning: The number of training samples (3) is smaller than the logging interval Trainer(log_every_n_steps=50). Set a lower value for log_every_n_steps if you want to see logs for the training epoch.\n",
      "  f\"The number of training samples ({self.num_training_batches}) is smaller than the logging interval\"\n"
     ]
    },
    {
     "data": {
      "application/vnd.jupyter.widget-view+json": {
       "model_id": "5423634268ee43b9b29e72795f59cfc0",
       "version_major": 2,
       "version_minor": 0
      },
      "text/plain": [
       "Training: 0it [00:00, ?it/s]"
      ]
     },
     "metadata": {},
     "output_type": "display_data"
    },
    {
     "name": "stdout",
     "output_type": "stream",
     "text": [
      "Day # 7\n",
      "Bench-\n",
      "In day accuracy:  0.6904761904761905\n",
      "Different day accuracy:  0.7884615384615384 \n",
      "\n",
      "AE-\n",
      "In day accuracy:  0.6904761904761905\n",
      "Different day accuracy:  0.7692307692307693\n"
     ]
    }
   ],
   "source": [
    "# Loop :)\n",
    "for i in range(train_days[1], len(dictListStacked)):\n",
    "    test_days = [i, i+1]\n",
    "    \n",
    "    # Create test Datasets\n",
    "    signal_test_data = EEGDataSet_signal(dictListStacked, test_days)\n",
    "    signal_test_data_loader = DataLoader(dataset=signal_test_data, batch_size=25, shuffle=True, num_workers=0)\n",
    "\n",
    "    feautres_test_data = EEGDataSet(dictListStacked, test_days, test_flag=True)\n",
    "    \n",
    "    # Add AE model perday\n",
    "    AE_list.append(convolution_AE(signal_data.n_channels, \\\n",
    "                                                  features_training_data.feat_mat,\\\n",
    "                                                  ae_learning_rt, filters_n=convolution_filters))\n",
    "    # Load weights of day 0 model\n",
    "    AE_list[i - train_days[1]].load_state_dict(day_zero_AE.state_dict())\n",
    "    AE_list[i - train_days[1]].kldm(True)\n",
    "    # Run model\n",
    "    # Create logger\n",
    "    logger = TensorBoardLogger('tb_logs', name='EEG_Logger')\n",
    "    # Create trainer\n",
    "    trainer_2 = pl.Trainer(max_epochs=150, gpus=0, progress_bar_refresh_rate=20, logger=logger)\n",
    "    # Create netowrk model\n",
    "    # Train the model\n",
    "    trainer_2.fit(AE_list[i - train_days[1]], train_dataloaders=signal_test_data_loader)\n",
    "    \n",
    "    # Create features\n",
    "    # Bench\n",
    "    X_bench_train = features_training_data.feat_mat\n",
    "    y_train = features_training_data.y\n",
    "\n",
    "    X_bench_test = feautres_test_data.feat_mat\n",
    "    y_test = feautres_test_data.y\n",
    "    # AE\n",
    "    signal_train, _ = signal_data.getAllItems()\n",
    "    signal_test, _ = signal_test_data.getAllItems()\n",
    "#     # Use latent space as features\n",
    "#     X_AE_train = conv_AE_model.encode(signal_train).detach().numpy()\n",
    "#     X_AE_test = conv_AE_model.encode(signal_test).detach().numpy()\n",
    "\n",
    "#     X_AE_train = np.reshape(X_AE_train, (X_AE_train.shape[0], -1))\n",
    "#     X_AE_test = np.reshape(X_AE_test, (X_AE_test.shape[0], -1))\n",
    "\n",
    "    # Use recountructed signal to extract features from\n",
    "    rec_signal_train = AE_list[i-train_days[1]](signal_train).detach().numpy()\n",
    "    rec_signal_test = AE_list[i-train_days[1]](signal_test).detach().numpy()\n",
    "\n",
    "    X_AE_train = mneFeatures(rec_signal_train, dictListStacked[0]['fs'])\n",
    "    X_AE_test = mneFeatures(rec_signal_test, dictListStacked[0]['fs'])\n",
    "    \n",
    "    # Create lightgbm models\n",
    "    lgbModel_bench = lgb.LGBMClassifier(learning_rate=0.09,max_depth=-5)\n",
    "    lgbModel_ae = lgb.LGBMClassifier(learning_rate=0.09,max_depth=-5)\n",
    "    \n",
    "    # Fit lightGBM models\n",
    "    print('Day #',i)\n",
    "    scores_bench = cross_val_score(lgbModel_bench, X_AE_test, y_test, cv=8)\n",
    "    print('Bench-\\nIn day accuracy: ', np.mean(scores_bench))\n",
    "    lgbModel_bench.fit(X_bench_train, y_train)\n",
    "    bench_diff_day = lgbModel_bench.score(X_bench_test, y_test)\n",
    "    print('Different day accuracy: ',bench_diff_day , '\\n')\n",
    "    \n",
    "    scores_ae = cross_val_score(lgbModel_ae, X_AE_test, y_test, cv=8)\n",
    "    print('AE-\\nIn day accuracy: ', np.mean(scores_ae))\n",
    "    lgbModel_ae.fit(X_AE_train, y_train)\n",
    "    AE_diff_day = lgbModel_ae.score(X_AE_test, y_test)\n",
    "    print('Different day accuracy: ', AE_diff_day)\n",
    "    \n",
    "    AE_diff_day_score.append(AE_diff_day)\n",
    "    bench_diff_day_score.append(bench_diff_day) \n",
    "    AE_same_day_score.append(np.mean(scores_ae))\n",
    "    bench_same_day_score.append(np.mean(scores_bench))"
   ]
  },
  {
   "cell_type": "code",
   "execution_count": 147,
   "id": "f606f49f",
   "metadata": {
    "scrolled": true
   },
   "outputs": [
    {
     "data": {
      "image/png": "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\n",
      "text/plain": [
       "<Figure size 432x288 with 1 Axes>"
      ]
     },
     "metadata": {
      "needs_background": "light"
     },
     "output_type": "display_data"
    }
   ],
   "source": [
    "plt.figure(1)\n",
    "plt.plot(range(train_days[1], len(dictListStacked)), AE_diff_day_score, label='AE diff day', color='g')\n",
    "plt.plot(range(train_days[1], len(dictListStacked)), bench_diff_day_score, label='bench diff day', color='r')\n",
    "plt.axhline(y=np.mean(AE_diff_day_score), color='g', linestyle='--')\n",
    "plt.axhline(y=np.mean(bench_diff_day_score), color='r', linestyle='--')\n",
    "# plt.plot(range(train_days[1], len(dictListStacked)), bench_same_day_score[train_days[1]:], label='bench diff day', color='b')\n",
    "# plt.axhline(y=np.mean(bench_same_day_score[train_days[1]:]), color='b', linestyle='--')\n",
    "plt.legend()\n",
    "plt.show()"
   ]
=======
   "cell_type": "code",
   "execution_count": null,
   "id": "b5e80787",
   "metadata": {},
   "outputs": [],
   "source": []
  },
  {
   "cell_type": "code",
   "execution_count": null,
   "id": "76a6f4e7",
   "metadata": {},
   "outputs": [],
   "source": []
  },
  {
   "cell_type": "code",
   "execution_count": null,
   "id": "14ec62fa",
   "metadata": {},
   "outputs": [],
   "source": []
>>>>>>> f21da1ecc7e7a0efbca478b0bf37c3417f392c2f
  },
  {
   "cell_type": "markdown",
   "id": "6a6495f3",
   "metadata": {},
   "source": [
    "# Junk from here on"
   ]
  },
  {
   "cell_type": "code",
   "execution_count": null,
   "id": "ee986a4f",
   "metadata": {},
   "outputs": [],
   "source": [
    "def plotSignal(elec, model, dataLoader):\n",
    "    # Create iterable object\n",
    "    data_iter = iter(dataLoader)\n",
    "    data, _ = data_iter.next()\n",
    "\n",
    "    \n",
    "    # Reconstruct data using given model\n",
    "    recon_data = model(data).detach()\n",
    "    \n",
    "    \n",
    "    # Plot original and reconstructed data\n",
    "    plt.figure(1)\n",
    "    plt.plot(data[0, elec, :], zorder=1)\n",
    "    plt.plot(recon_data[0, elec, :], zorder=0)\n",
    "    plt.legend(['Original', 'Reconstructed'])\n",
    "    plt.title(f'mse-Loss: {F.mse_loss(recon_data[0, elec, :], data[0, elec, :])}')\n",
    "    plt.xlabel('Time [mS]')\n",
    "    plt.ylabel('μV')\n",
    "\n",
    "    plt.show()"
   ]
  },
  {
   "cell_type": "code",
   "execution_count": null,
   "id": "5220b16b",
   "metadata": {},
   "outputs": [],
   "source": [
    "def applyICA(eegMat, eegInfo, excludeIdx, plotFlag=0):\n",
    "    eegRaw = mne.io.RawArray(eegMat, eegInfo)\n",
    "    ica = mne.preprocessing.ICA(n_components=11)\n",
    "    ica.fit(eegRaw)\n",
    "    ica.apply(eegRaw, exclude=excludeIdx)\n",
    "    \n",
    "    if plotFlag:\n",
    "        ica.plot_components()\n",
    "        ica.plot_sources(eegRaw)\n",
    "        plt.show()\n",
    "    eegMat = eegRaw.get_data()\n",
    "    return eegMat"
   ]
  },
  {
   "cell_type": "code",
   "execution_count": null,
   "id": "7d02e2a7",
   "metadata": {},
   "outputs": [],
   "source": [
    "def cspFeaturesExtract(signal, labels, eegInfo, cv_N = 5, plotFlag = 1):\n",
    "    \n",
    "    # Set verbose to 0\n",
    "    mne.set_log_level(verbose='WARNING', return_old_level=False, add_frames=None)\n",
    "\n",
    "    # Define a monte-carlo cross-validation generator (reduce variance):\n",
    "    scores = []\n",
    "\n",
    "    # Assemble a classifier\n",
    "    lda = LinearDiscriminantAnalysis()\n",
    "    csp = mne.decoding.CSP(n_components=16, reg=None, log=True, norm_trace=False)\n",
    "\n",
    "    # Use scikit-learn Pipeline with cross_val_score function\n",
    "    clf = Pipeline([('CSP', csp), ('LDA', lda)])\n",
    "    scores = cross_val_score(clf, signal, labels, cv=cv_N, n_jobs=1)\n",
    "    # Printing the results\n",
    "    print(\"CSP mean accuracy: %f \" % (np.mean(scores)))\n",
    "    clf.fit(signal, labels)\n",
    "    \n",
    "    if plotFlag:\n",
    "        # plot CSP patterns estimated on full data for visualization\n",
    "        csp.fit_transform(signal, labels)\n",
    "        csp.plot_patterns(eegInfo, ch_type='eeg', units='Patterns (AU)', size=10)\n",
    "    \n",
    "    return np.mean(scores), clf"
   ]
  },
  {
   "cell_type": "code",
   "execution_count": null,
   "id": "a37a24b1",
   "metadata": {},
   "outputs": [],
   "source": [
    "def dayZeroCompare(XZero, yZero, X, Xaligned, y,modelClass=LinearDiscriminantAnalysis(), eegInfo=None):\n",
    "        \n",
    "    if modelClass == 'CSP':\n",
    "        if eegInfo == None:\n",
    "            print('No eegInfo')\n",
    "        \n",
    "        zeroAcc, cspZero = cspFeaturesExtract(XZero, yZero, eegInfo, cv_N = 5, plotFlag = 0)\n",
    "        \n",
    "        diffAcc, _ = cspFeaturesExtract(X, y, eegInfo, cv_N = 5, plotFlag = 0)\n",
    "        \n",
    "        alignedPred = cspZero.predict(Xaligned)\n",
    "        alignedAcc = accuracy_score(y, alignedPred)\n",
    "\n",
    "        nonAlignedPred = cspZero.predict(X)\n",
    "        nonAlignedAcc = accuracy_score(y, nonAlignedPred)\n",
    "        return zeroAcc, diffAcc, alignedAcc, nonAlignedAcc\n",
    "\n",
    "        \n",
    "    modelZero = modelClass\n",
    "    zeroAcc = np.mean(cross_val_score(modelZero, XZero, yZero, cv=cv_N))\n",
    "    modelZero.fit(XZero, yZero)\n",
    "    \n",
    "    modelDiff = modelClass\n",
    "    diffAcc = np.mean(cross_val_score(modelDiff, X, y, cv=cv_N))\n",
    "    \n",
    "    alignedPred = modelZero.predict(Xaligned)\n",
    "    alignedAcc = accuracy_score(y, alignedPred)\n",
    "    \n",
    "    nonAlignedPred =  modelZero.predict(X)\n",
    "    nonAlignedAcc = accuracy_score(y, nonAlignedPred)\n",
    "    \n",
    "    return zeroAcc, diffAcc, alignedAcc, nonAlignedAcc\n"
   ]
  },
  {
   "cell_type": "code",
   "execution_count": null,
   "id": "c64f26a7",
   "metadata": {},
   "outputs": [],
   "source": [
    "def mneFeatures(X, fs):\n",
    "    selected_funcs = ['kurtosis', 'skewness', 'pow_freq_bands', 'spect_slope',\n",
    "                     'spect_entropy', 'spect_edge_freq', 'mean', 'variance', 'ptp_amp']\n",
    "#     params = {'pow_freq_bands__freq_bands' : np.array([[2,4],\n",
    "#                                                        [4,8],\n",
    "#                                                        [8, 10],\n",
    "#                                                        [10,12],\n",
    "#                                                        [12, 20],\n",
    "#                                                        [20, 25],\n",
    "#                                                        [25, 30]])}\n",
    "    params = {'pow_freq_bands__freq_bands' : np.arange(1,30)}\n",
    "    fe = FeatureExtractor(sfreq=fs, selected_funcs=selected_funcs, params=params)\n",
    "\n",
    "    X_features = fe.fit_transform(X)\n",
    "    return X_features"
   ]
  },
  {
   "cell_type": "code",
   "execution_count": null,
   "id": "169c9558",
   "metadata": {},
   "outputs": [],
   "source": [
    "def plotSpectro(eegDict, elec, nperseg=None):\n",
    "    SxxImagine = 0\n",
    "    SxxIdle = 0\n",
    "    print(eegDict['segmentedEEG'][1, elec].shape)\n",
    "    for idx, sample in enumerate(eegDict['segmentedEEG']):\n",
    "        _, _, SxxTemp = scipy.signal.spectrogram(sample[elec], dictListStacked[0]['fs'],\n",
    "                                            nperseg=nperseg, window='hann')\n",
    "        if eegDict['labels'][idx] == 1:\n",
    "            SxxImagine += SxxTemp\n",
    "        elif eegDict['labels'][idx] == 0:\n",
    "            SxxIdle += SxxTemp\n",
    "\n",
    "    f, t, _ = scipy.signal.spectrogram(sample[elec], dictListStacked[0]['fs'],\n",
    "                                        nperseg=nperseg)\n",
    "    \n",
    "    plt.figure(1)\n",
    "    plt.pcolormesh(t, f, SxxImagine, shading='gouraud')\n",
    "    plt.ylabel('Frequency [Hz]')\n",
    "    plt.xlabel('Time [sec]')\n",
    "    plt.title('Imagine Trials Spectrogram \\n Channel ' + eegDict['chanLabels'][elec])\n",
    "    \n",
    "    plt.figure(2)\n",
    "    plt.pcolormesh(t, f, SxxIdle, shading='gouraud')\n",
    "    plt.ylabel('Frequency [Hz]')\n",
    "    plt.xlabel('Time [sec]')\n",
    "    plt.title('Idle Trials Spectrogram \\n Channel ' + eegDict['chanLabels'][elec])\n",
    "    plt.show()"
   ]
  },
  {
   "cell_type": "code",
   "execution_count": null,
   "id": "bafd4cd9",
   "metadata": {},
   "outputs": [],
   "source": [
    "# Create montage\n",
    "montage = createMontage(dictListStacked[0]['chanLabels'])\n",
    "eegInfo = mne.create_info(dictListStacked[0]['chanLabels'], dictListStacked[0]['fs'], ch_types='eeg')\n",
    "eegInfo.set_montage(montage)"
   ]
  },
  {
   "cell_type": "markdown",
   "id": "53337a07",
   "metadata": {},
   "source": [
    "## Visualizations\n",
    "#### ICA"
   ]
  },
  {
   "cell_type": "code",
   "execution_count": null,
   "id": "372b0a83",
   "metadata": {},
   "outputs": [],
   "source": [
    "cv_N = 5\n",
    "ldaCV = np.zeros((1, len(dictListStacked)))\n",
    "rfCV = np.zeros((1, len(dictListStacked)))\n",
    "lgbCV = np.zeros((1, len(dictListStacked)))\n",
    "cspCV = np.zeros((1, len(dictListStacked)))\n",
    "\n",
    "for day_i in range(len(dictListStacked)):\n",
    "    print('\\nImagineTrials Ratio: ' ,np.sum(dictListStacked[day_i]['labels'] / dictListStacked[day_i]['trials_N']))\n",
    "    ldaCV[0, day_i], rfCV[0, day_i], lgbCV[0, day_i] = mneFeaturesCV(dictListStacked[day_i]['segmentedEEG'], dictListStacked[day_i]['labels'], \n",
    "                  dictListStacked[day_i]['fs'], cv_N=cv_N)\n",
    "    cspCV[0, day_i], _ = cspFeaturesExtract(dictListStacked[day_i]['segmentedEEG'], dictListStacked[day_i]['labels'],\n",
    "                                      eegInfo, cv_N=cv_N, plotFlag=0)\n"
   ]
  },
  {
   "cell_type": "code",
   "execution_count": null,
   "id": "8727db82",
   "metadata": {},
   "outputs": [],
   "source": [
    "data = np.concatenate((ldaCV, rfCV, lgbCV, cspCV), axis=0)\n",
    "X = (np.arange(len(dictListStacked))) * 1.5\n",
    "fig = plt.figure()\n",
    "ax = fig.add_axes([0,0,1,1])\n",
    "ax.set_xticks(X)\n",
    "ax.set_yticks(np.arange(0,1,0.1))\n",
    "ax.set_xticklabels(range(1, len(dictListStacked) + 1))\n",
    "\n",
    "ax.bar(X - 0.25, data[0], color = 'b', width = 0.25)\n",
    "ax.bar(X + 0.00, data[1], color = 'g', width = 0.25)\n",
    "ax.bar(X + 0.25, data[2], color = 'r', width = 0.25)\n",
    "ax.bar(X + 0.50, data[3], color = 'y', width = 0.25)\n",
    "plt.legend(['lda', 'rf', 'lgb', 'csp'], loc=4)\n",
    "\n",
    "plt.axhline(y=np.mean(data[0]), color='b', linestyle='--')\n",
    "plt.axhline(y=np.mean(data[1]), color='g', linestyle='--')\n",
    "plt.axhline(y=np.mean(data[2]), color='r', linestyle='--')\n",
    "plt.axhline(y=np.mean(data[3]), color='y', linestyle='--')\n",
    "plt.axhline(y=0.5, color='k', linestyle='--')\n",
    "\n",
    "plt.xlabel('Day')\n",
    "plt.ylabel('Accuracy [%]')\n",
    "plt.show()\n"
   ]
  },
  {
   "cell_type": "markdown",
   "id": "6bb69f9f",
   "metadata": {},
   "source": [
    "# Auto Encoder"
   ]
  },
  {
   "cell_type": "markdown",
   "id": "dbb2fb5b",
   "metadata": {},
   "source": [
    "### DataSet"
   ]
  },
  {
   "cell_type": "code",
   "execution_count": null,
   "id": "abb0fc88",
   "metadata": {},
   "outputs": [],
   "source": [
    "class EEGDataSet(Dataset):\n",
    "    def __init__(self, EEGmat, day=0):\n",
    "        # Data loading      \n",
    "        \n",
    "        \n",
    "        # INSERT PREPROCCESSING HERE #\n",
    "        # Make sure you end up with EEG and labels as follow:\n",
    "        # EEG --> [N_trials X N_channels X N_timestamps]\n",
    "        labels = np.squeeze(np.ones((1, EEGmat.shape[0])) * day)      \n",
    "        \n",
    "        \n",
    "        # Convert from numpy to tensor\n",
    "        self.x = torch.from_numpy(EEGmat)\n",
    "        self.y = torch.from_numpy(labels)\n",
    "        self.n_samples = self.x.shape[0]\n",
    "        self.channels_N = self.x.shape[1]\n",
    "        self.timestamps = self.x.shape[2]\n",
    "        \n",
    "    def __getitem__(self, index):\n",
    "        return self.x[index].float() , self.y[index].float()\n",
    "    \n",
    "    def __len__(self):\n",
    "        return self.n_samples\n",
    "    \n",
    "    def getAllItems(self):\n",
    "        return self.x.float() , self.y.float()"
   ]
  },
  {
   "cell_type": "markdown",
   "id": "1a9b80bd",
   "metadata": {},
   "source": [
    "### Create Data"
   ]
  },
  {
   "cell_type": "code",
   "execution_count": null,
   "id": "1b009d44",
   "metadata": {},
   "outputs": [],
   "source": [
    "segmentedEEG = []\n",
    "# Extract and segment all the data\n",
    "for dayData in dataList:\n",
    "    # Extract each day data\n",
    "    interData = extractData(dayData)\n",
    "    # Filter the data\n",
    "    interData['EEG'] = eegFilters(interData['EEG'], interData['fs'], filterLim)\n",
    "    interData['EEG'] = interData['EEG'][(2,8),:]\n",
    "    # Segment the data\n",
    "    segmentedEEG.append(AEsegmentEEG(interData, trialLen=trialLen, edgesCut=4))\n",
    "\n",
    "# Stack matrix for each day \n",
    "EEGlist = []\n",
    "for i, mat_i in enumerate(segmentedEEG):\n",
    "    if i % len(block) == 0:\n",
    "        eegArray = mat_i\n",
    "    eegArray = np.concatenate((eegArray, mat_i))\n",
    "    if i % len(block) == len(block) - 1:\n",
    "        EEGlist.append(eegArray)\n"
   ]
  },
  {
   "cell_type": "code",
   "execution_count": null,
   "id": "dfe1ddc7",
   "metadata": {},
   "outputs": [],
   "source": [
    "# Day Zero\n",
    "dayZeroDataSet = EEGDataSet(EEGlist[0], day=0)\n",
    "dayZeroDataLoader = DataLoader(dataset=dayZeroDataSet, batch_size=8, shuffle=True, num_workers=0)\n",
    "\n",
    "print(len(dayZeroDataSet))\n",
    "print(dayZeroDataSet.timestamps)"
   ]
  },
  {
   "cell_type": "code",
   "execution_count": null,
   "id": "2d62fbb1",
   "metadata": {
    "scrolled": false
   },
   "outputs": [],
   "source": [
    "# Create logger\n",
    "logger = TensorBoardLogger('tb_logs', name='EEG_Logger')\n",
    "# Create trainer\n",
    "trainer = pl.Trainer(max_epochs=100, gpus=0, progress_bar_refresh_rate=20, logger=logger)\n",
    "# Create netowrk model\n",
    "AEmodel = lightAE(dayZeroDataSet.channels_N, 1, 3e-4)\n",
    "# Train the model\n",
    "trainer.fit(AEmodel, train_dataloaders=dayZeroDataLoader)"
   ]
  },
  {
   "cell_type": "code",
   "execution_count": null,
   "id": "e1ac79eb",
   "metadata": {},
   "outputs": [],
   "source": [
    "print('Data reduction:')\n",
    "print('Original-',torch.unsqueeze(dayZeroDataSet[0][0],0).shape)\n",
    "a = AEmodel.encode(torch.unsqueeze(dayZeroDataSet[0][0],0))\n",
    "print('Compacted-',a.shape)\n",
    "print('Ratio - ', np.dot(a.shape[1], a.shape[2]) / np.dot(dayZeroDataSet[0][0].shape[0],dayZeroDataSet[0][0].shape[1] ))"
   ]
  },
  {
   "cell_type": "code",
   "execution_count": null,
   "id": "2908a776",
   "metadata": {
    "scrolled": false
   },
   "outputs": [],
   "source": [
    "plotSignal(elec=0, model=AEmodel, dataLoader=dayZeroDataLoader)"
   ]
  },
  {
   "cell_type": "code",
   "execution_count": null,
   "id": "30fb7440",
   "metadata": {},
   "outputs": [],
   "source": [
    "daysPlots = [0,1,2,3,4,5,6,7]\n",
    "diffDayIdx = 4\n",
    "distType = 'norm'\n",
    "\n",
    "pdfList = plotResDist(EEGlist, AEmodel, daysPlots, plotType='stacked', distType=distType)\n",
    "print(f'Wasserstein distance between days 0 and {diffDayIdx}- {wasserstein_distance(pdfList[0], pdfList[diffDayIdx])}')"
   ]
  },
  {
   "cell_type": "code",
   "execution_count": null,
   "id": "3c3c1e3f",
   "metadata": {},
   "outputs": [],
   "source": [
    "plotResDist(EEGlist, AEmodel, daysPlots, plotType='hist', distType=distType)\n",
    "print()"
   ]
  },
  {
   "cell_type": "markdown",
   "id": "456076d6",
   "metadata": {},
   "source": [
    "# Align data"
   ]
  },
  {
   "cell_type": "code",
   "execution_count": null,
   "id": "5c643ca6",
   "metadata": {
    "scrolled": false
   },
   "outputs": [],
   "source": [
    "alignerList = []\n",
    "dayZeroDat = dayZeroDataSet.getAllItems()[0]\n",
    "l1Res = AEmodel.getResNorm(dayZeroDat)\n",
    "\n",
    "for dayIdx in range(1 ,len(EEGlist)):\n",
    "    # Each day data loader\n",
    "    diffDayDataSet = EEGDataSet(EEGlist[dayIdx], day=dayIdx)\n",
    "    diffDayDataLoader = DataLoader(dataset=diffDayDataSet, batch_size=int(1 * len(diffDayDataSet)), shuffle=True, num_workers=0)\n",
    "    # Create logger\n",
    "    logger = TensorBoardLogger('tb_logs', name='EEG_Logger')\n",
    "    # Create trainer\n",
    "    trainer = pl.Trainer(max_epochs=150, gpus=0, progress_bar_refresh_rate=1, logger=logger)\n",
    "    # Create netowrk model\n",
    "    aligner = alignerModel(diffDayDataSet.channels_N, diffDayDataSet.timestamps ,l1Res, AEmodel=AEmodel,\n",
    "                           varFactor=3e-4, learning_rate=3e-4)\n",
    "    # Train the model\n",
    "    aligner.train()\n",
    "    trainer.fit(aligner, train_dataloaders=diffDayDataLoader)\n",
    "    aligner.eval()\n",
    "    alignerList.append(aligner)"
   ]
  },
  {
   "cell_type": "markdown",
   "id": "cb378dd5",
   "metadata": {},
   "source": [
    "### Using MNE-Features"
   ]
  },
  {
   "cell_type": "code",
   "execution_count": null,
   "id": "98fc0348",
   "metadata": {},
   "outputs": [],
   "source": [
    "dayZeroAccList = []\n",
    "diffDayAccList = []\n",
    "alignedDayAccList = []\n",
    "nonAlignedAccList = []\n",
    "\n",
    "modelType = LinearDiscriminantAnalysis()\n",
    "# modelType = lgb.LGBMClassifier(learning_rate=0.09,max_depth=-5)\n",
    "# modelType = RandomForestClassifier()\n",
    "\n",
    "# Day Zero data arrangment\n",
    "XZero = dictListStacked[0]['segmentedEEG']\n",
    "XZero = mneFeatures(XZero, dictListStacked[0]['fs'])\n",
    "yZero = dictListStacked[0]['labels']\n",
    "\n",
    "# Other days data arrangment\n",
    "for dayIdx in range(1 ,len(EEGlist)):\n",
    "    # Allign the data\n",
    "    X = dictListStacked[dayIdx]['segmentedEEG']\n",
    "    Xaligned = alignerList[dayIdx - 1](torch.Tensor(X)).detach().numpy()\n",
    "    # mne Features exrtaction\n",
    "    X = mneFeatures(X, dictListStacked[0]['fs'])\n",
    "    Xaligned = mneFeatures(Xaligned, dictListStacked[0]['fs'])\n",
    "    # Labels\n",
    "    y = dictListStacked[dayIdx]['labels']\n",
    "    zeroAcc, diffAcc, alignedAcc, nonAlignedAcc = dayZeroCompare(XZero, yZero, X, Xaligned, y, modelType, eegInfo=eegInfo)\n",
    "    dayZeroAccList.append(zeroAcc)\n",
    "    diffDayAccList.append(diffAcc)\n",
    "    alignedDayAccList.append(alignedAcc)\n",
    "    nonAlignedAccList.append(nonAlignedAcc)"
   ]
  },
  {
   "cell_type": "code",
   "execution_count": null,
   "id": "b7f86594",
   "metadata": {
    "scrolled": true
   },
   "outputs": [],
   "source": [
    "plotDaysAcc(diffDayAccList, alignedDayAccList, nonAlignedAccList, zeroAcc)"
   ]
  },
  {
   "cell_type": "markdown",
   "id": "6f570845",
   "metadata": {},
   "source": [
    "### Using CSP"
   ]
  },
  {
   "cell_type": "code",
   "execution_count": null,
   "id": "9169cc42",
   "metadata": {},
   "outputs": [],
   "source": [
    "dayZeroAccList = []\n",
    "diffDayAccList = []\n",
    "alignedDayAccList = []\n",
    "nonAlignedAccList = []\n",
    "\n",
    "modelType = 'CSP'\n",
    "\n",
    "# Day Zero data arrangment\n",
    "XZero = dictListStacked[0]['segmentedEEG']\n",
    "yZero = dictListStacked[0]['labels']\n",
    "\n",
    "# Other days data arrangment\n",
    "for dayIdx in range(1 ,len(EEGlist)):\n",
    "    # Allign the data\n",
    "    X = dictListStacked[dayIdx]['segmentedEEG']\n",
    "    Xaligned = alignerList[dayIdx - 1](torch.Tensor(X)).detach().numpy()\n",
    "    # Labels\n",
    "    y = dictListStacked[dayIdx]['labels']\n",
    "    zeroAcc, diffAcc, alignedAcc, nonAlignedAcc = dayZeroCompare(XZero, yZero, X, Xaligned, y, modelType, eegInfo=eegInfo)\n",
    "    dayZeroAccList.append(zeroAcc)\n",
    "    diffDayAccList.append(diffAcc)\n",
    "    alignedDayAccList.append(alignedAcc)\n",
    "    nonAlignedAccList.append(nonAlignedAcc)"
   ]
  },
  {
   "cell_type": "code",
   "execution_count": null,
   "id": "49817f06",
   "metadata": {},
   "outputs": [],
   "source": [
    "plotDaysAcc(diffDayAccList, alignedDayAccList, nonAlignedAccList, zeroAcc)"
   ]
  },
  {
   "cell_type": "markdown",
   "id": "b79366ea",
   "metadata": {},
   "source": [
    "### Using Latent Space"
   ]
  },
  {
   "cell_type": "code",
   "execution_count": null,
   "id": "a92c4e57",
   "metadata": {},
   "outputs": [],
   "source": [
    "dayZeroAccList = []\n",
    "diffDayAccList = []\n",
    "alignedDayAccList = []\n",
    "nonAlignedAccList = []\n",
    "\n",
    "# modelType = LinearDiscriminantAnalysis()\n",
    "# modelType = lgb.LGBMClassifier(learning_rate=0.09,max_depth=-5)\n",
    "modelType = RandomForestClassifier()\n",
    "\n",
    "# Day Zero data arrangment\n",
    "XZero = dictListStacked[0]['segmentedEEG']\n",
    "XZero = AEmodel.encode(torch.Tensor(XZero)).detach().numpy()\n",
    "XZero = np.reshape(XZero, (XZero.shape[0], XZero.shape[1] * XZero.shape[2]))\n",
    "yZero = dictListStacked[0]['labels']\n",
    "\n",
    "# Other days data arrangment\n",
    "for dayIdx in range(1 ,len(EEGlist)):\n",
    "    # Allign the data\n",
    "    X = dictListStacked[dayIdx]['segmentedEEG']\n",
    "    Xaligned = alignerList[dayIdx - 1](torch.Tensor(X)).detach().numpy()\n",
    "    # latent Features exrtaction\n",
    "    X = AEmodel.encode(torch.Tensor(X)).detach().numpy()\n",
    "    Xaligned = AEmodel.encode(torch.Tensor(Xaligned)).detach().numpy()\n",
    "    # Flatten the features\n",
    "    X = np.reshape(X, (X.shape[0], X.shape[1] * X.shape[2]))\n",
    "    Xaligned = np.reshape(Xaligned, (Xaligned.shape[0], Xaligned.shape[1] * Xaligned.shape[2]))\n",
    "    # Labels\n",
    "    y = dictListStacked[dayIdx]['labels']\n",
    "    zeroAcc, diffAcc, alignedAcc, nonAlignedAcc = dayZeroCompare(XZero, yZero, X, Xaligned, y, modelType, eegInfo=eegInfo)\n",
    "    dayZeroAccList.append(zeroAcc)\n",
    "    diffDayAccList.append(diffAcc)\n",
    "    alignedDayAccList.append(alignedAcc)\n",
    "    nonAlignedAccList.append(nonAlignedAcc)"
   ]
  },
  {
   "cell_type": "code",
   "execution_count": null,
   "id": "ab4c4b41",
   "metadata": {},
   "outputs": [],
   "source": [
    "plotDaysAcc(diffDayAccList, alignedDayAccList, nonAlignedAccList, zeroAcc)"
   ]
  },
  {
   "cell_type": "markdown",
   "id": "f97ad25c",
   "metadata": {},
   "source": [
    "## Plots"
   ]
  },
  {
   "cell_type": "code",
   "execution_count": null,
   "id": "6e945080",
   "metadata": {
    "scrolled": false
   },
   "outputs": [],
   "source": [
    "dayPlot = 4\n",
    "plotAlignerDist(EEGlist, AEmodel, alignerList[dayPlot], dayPlot, distType=distType)"
   ]
  },
  {
   "cell_type": "code",
   "execution_count": null,
   "id": "0800fc8a",
   "metadata": {},
   "outputs": [],
   "source": [
    "plotAlignedEEG(diffDayDataSet, alignerList[dayPlot - 1], 1, 1)"
   ]
  },
  {
   "cell_type": "code",
   "execution_count": null,
   "id": "535168c4",
   "metadata": {},
   "outputs": [],
   "source": [
    "plt.matshow(alignerList[dayPlot].fc1.weight.detach().numpy())"
   ]
  }
 ],
 "metadata": {
  "kernelspec": {
   "display_name": "Python 3 (ipykernel)",
   "language": "python",
   "name": "python3"
  },
  "language_info": {
   "codemirror_mode": {
    "name": "ipython",
    "version": 3
   },
   "file_extension": ".py",
   "mimetype": "text/x-python",
   "name": "python",
   "nbconvert_exporter": "python",
   "pygments_lexer": "ipython3",
   "version": "3.10.4"
  }
 },
 "nbformat": 4,
 "nbformat_minor": 5
}
