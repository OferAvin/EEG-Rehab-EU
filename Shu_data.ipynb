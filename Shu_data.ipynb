{
 "cells": [
  {
   "cell_type": "code",
   "execution_count": null,
   "id": "2142c3f8",
   "metadata": {},
   "outputs": [],
   "source": [
    "import numpy as np\n",
    "import mne\n",
    "import os\n",
    "import sys\n",
    "from scipy import io"
   ]
  },
  {
   "cell_type": "code",
   "execution_count": null,
   "id": "65746c39",
   "metadata": {},
   "outputs": [],
   "source": [
    "def extract_shu_data(sub, filterLim = [8,30], fs = 250, data_dir = 'data/shu_dataset/'):\n",
    "\n",
    "    data_dir = os.path.abspath('data/shu_dataset')\n",
    "    all_days_dirs = os.listdir(data_dir)\n",
    "    sub_files = [file_str for file_str in all_days_dirs if sub in file_str]\n",
    "\n",
    "    all_days_data = []\n",
    "    \n",
    "    for file in sub_files:\n",
    "        file_path = data_dir + '/' + file\n",
    "        d = io.loadmat(file_path)\n",
    "        segmentedEEG = mne.filter.filter_data(d['data'].astype(float), fs, filterLim[0], filterLim[1], verbose=0)\n",
    "        labels = d['labels'][0]\n",
    "\n",
    "        stackedDict = {'segmentedEEG': segmentedEEG, 'labels': labels, 'fs': fs,\n",
    "               'chanLabels': None, 'trigLabels': ['left', 'right'], 'trials_N': len(labels)}\n",
    "\n",
    "        all_days_data.append(stackedDict)\n",
    "\n",
    "    return all_days_data"
   ]
  }
 ],
 "metadata": {
  "kernelspec": {
   "display_name": "Python 3 (ipykernel)",
   "language": "python",
   "name": "python3"
  },
  "language_info": {
   "codemirror_mode": {
    "name": "ipython",
    "version": 3
   },
   "file_extension": ".py",
   "mimetype": "text/x-python",
   "name": "python",
   "nbconvert_exporter": "python",
   "pygments_lexer": "ipython3",
   "version": "3.10.4"
  }
 },
 "nbformat": 4,
 "nbformat_minor": 5
}
